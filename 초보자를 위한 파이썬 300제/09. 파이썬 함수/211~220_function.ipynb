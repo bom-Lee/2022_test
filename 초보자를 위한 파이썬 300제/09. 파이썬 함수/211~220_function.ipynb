{
 "cells": [
  {
   "cell_type": "markdown",
   "metadata": {},
   "source": [
    "# 09. 파이썬\n",
    "## 211 ~ 220"
   ]
  },
  {
   "cell_type": "code",
   "execution_count": 1,
   "metadata": {},
   "outputs": [
    {
     "name": "stdout",
     "output_type": "stream",
     "text": [
      "안녕\n",
      "Hi\n"
     ]
    }
   ],
   "source": [
    "# 211\n",
    "def 함수(문자열) :\n",
    "    print(문자열)\n",
    "\n",
    "함수(\"안녕\")\n",
    "함수(\"Hi\")\n",
    "\n",
    "# 안녕\n",
    "# Hi"
   ]
  },
  {
   "cell_type": "markdown",
   "metadata": {},
   "source": [
    "##### 정답\n",
    "* 안녕\n",
    "- Hi"
   ]
  },
  {
   "cell_type": "code",
   "execution_count": 2,
   "metadata": {},
   "outputs": [
    {
     "name": "stdout",
     "output_type": "stream",
     "text": [
      "7\n",
      "15\n"
     ]
    }
   ],
   "source": [
    "# 212\n",
    "def 함수(a, b) :\n",
    "    print(a + b)\n",
    "\n",
    "함수(3, 4)\n",
    "함수(7, 8)\n",
    "\n",
    "# 12\n",
    "# 15"
   ]
  },
  {
   "cell_type": "markdown",
   "metadata": {},
   "source": [
    "##### 정답\n",
    "* 7\n",
    "- 15"
   ]
  },
  {
   "cell_type": "code",
   "execution_count": 3,
   "metadata": {},
   "outputs": [
    {
     "ename": "TypeError",
     "evalue": "함수() missing 1 required positional argument: '문자열'",
     "output_type": "error",
     "traceback": [
      "\u001b[1;31m---------------------------------------------------------------------------\u001b[0m",
      "\u001b[1;31mTypeError\u001b[0m                                 Traceback (most recent call last)",
      "\u001b[1;32mc:\\Users\\Spring\\Desktop\\test\\초보자를 위한 파이썬 300제\\09. 파이썬 함수\\211~220_function.ipynb Cell 6'\u001b[0m in \u001b[0;36m<module>\u001b[1;34m\u001b[0m\n\u001b[0;32m      <a href='vscode-notebook-cell:/c%3A/Users/Spring/Desktop/test/%EC%B4%88%EB%B3%B4%EC%9E%90%EB%A5%BC%20%EC%9C%84%ED%95%9C%20%ED%8C%8C%EC%9D%B4%EC%8D%AC%20300%EC%A0%9C/09.%20%ED%8C%8C%EC%9D%B4%EC%8D%AC%20%ED%95%A8%EC%88%98/211~220_function.ipynb#ch0000006?line=1'>2</a>\u001b[0m \u001b[39mdef\u001b[39;00m \u001b[39m함수\u001b[39m(문자열) :\n\u001b[0;32m      <a href='vscode-notebook-cell:/c%3A/Users/Spring/Desktop/test/%EC%B4%88%EB%B3%B4%EC%9E%90%EB%A5%BC%20%EC%9C%84%ED%95%9C%20%ED%8C%8C%EC%9D%B4%EC%8D%AC%20300%EC%A0%9C/09.%20%ED%8C%8C%EC%9D%B4%EC%8D%AC%20%ED%95%A8%EC%88%98/211~220_function.ipynb#ch0000006?line=2'>3</a>\u001b[0m     \u001b[39mprint\u001b[39m(문자열)\n\u001b[1;32m----> <a href='vscode-notebook-cell:/c%3A/Users/Spring/Desktop/test/%EC%B4%88%EB%B3%B4%EC%9E%90%EB%A5%BC%20%EC%9C%84%ED%95%9C%20%ED%8C%8C%EC%9D%B4%EC%8D%AC%20300%EC%A0%9C/09.%20%ED%8C%8C%EC%9D%B4%EC%8D%AC%20%ED%95%A8%EC%88%98/211~220_function.ipynb#ch0000006?line=4'>5</a>\u001b[0m 함수()\n",
      "\u001b[1;31mTypeError\u001b[0m: 함수() missing 1 required positional argument: '문자열'"
     ]
    }
   ],
   "source": [
    "# 213\n",
    "def 함수(문자열) :\n",
    "    print(문자열)\n",
    "\n",
    "함수()\n",
    "# TypeError: 함수() missing 1 required positional argument: '문자열'"
   ]
  },
  {
   "cell_type": "markdown",
   "metadata": {},
   "source": [
    "##### 정답\n",
    "* 함수에 정의와 다르게 함수를 호출하고 있다. 함수를 호출할 때 하나의 파라미터를 입력해야한다."
   ]
  },
  {
   "cell_type": "code",
   "execution_count": 4,
   "metadata": {},
   "outputs": [
    {
     "ename": "TypeError",
     "evalue": "can only concatenate str (not \"int\") to str",
     "output_type": "error",
     "traceback": [
      "\u001b[1;31m---------------------------------------------------------------------------\u001b[0m",
      "\u001b[1;31mTypeError\u001b[0m                                 Traceback (most recent call last)",
      "Input \u001b[1;32mIn [4]\u001b[0m, in \u001b[0;36m<module>\u001b[1;34m\u001b[0m\n\u001b[0;32m      2\u001b[0m \u001b[39mdef\u001b[39;00m \u001b[39m함수\u001b[39m(a, b) :\n\u001b[0;32m      3\u001b[0m     \u001b[39mprint\u001b[39m(a \u001b[39m+\u001b[39m b)\n\u001b[1;32m----> 5\u001b[0m 함수(\u001b[39m\"\u001b[39;49m\u001b[39m안녕\u001b[39;49m\u001b[39m\"\u001b[39;49m, \u001b[39m3\u001b[39;49m)\n",
      "Input \u001b[1;32mIn [4]\u001b[0m, in \u001b[0;36m함수\u001b[1;34m(a, b)\u001b[0m\n\u001b[0;32m      2\u001b[0m \u001b[39mdef\u001b[39;00m \u001b[39m함수\u001b[39m(a, b) :\n\u001b[1;32m----> 3\u001b[0m     \u001b[39mprint\u001b[39m(a \u001b[39m+\u001b[39;49m b)\n",
      "\u001b[1;31mTypeError\u001b[0m: can only concatenate str (not \"int\") to str"
     ]
    }
   ],
   "source": [
    "# 214\n",
    "def 함수(a, b) :\n",
    "    print(a + b)\n",
    "\n",
    "함수(\"안녕\", 3)\n",
    "\n",
    "#TypeError: must be str, not int"
   ]
  },
  {
   "cell_type": "markdown",
   "metadata": {},
   "source": [
    "##### 정답\n",
    "* 정의된 함수는 같은 타입의 두 개의 값을 입력 받아 덧셈 연산을 적용하려는 의도로 설계됐습니다. 하지만 함수를 호출 할때 문자열과 숫자를 입력해서 문자열과 숫자는 더할 수 없다는 에러가 발생합니다."
   ]
  },
  {
   "cell_type": "code",
   "execution_count": 5,
   "metadata": {},
   "outputs": [
    {
     "name": "stdout",
     "output_type": "stream",
     "text": [
      "봄:D\n"
     ]
    }
   ],
   "source": [
    "# 215\n",
    "def print_with_smile(string):\n",
    "    print(string + ':D')\n",
    "\n",
    "print_with_smile('봄')"
   ]
  },
  {
   "cell_type": "markdown",
   "metadata": {},
   "source": [
    "##### 정답\n",
    "* def print_with_smile (string) :\n",
    "    print (string + \":D\")"
   ]
  },
  {
   "cell_type": "code",
   "execution_count": 6,
   "metadata": {},
   "outputs": [
    {
     "name": "stdout",
     "output_type": "stream",
     "text": [
      "안녕하세요:D\n"
     ]
    }
   ],
   "source": [
    "# 216\n",
    "print_with_smile('안녕하세요')"
   ]
  },
  {
   "cell_type": "markdown",
   "metadata": {},
   "source": [
    "##### 정답\n",
    "* print_with_smile(\"안녕하세요\")"
   ]
  },
  {
   "cell_type": "code",
   "execution_count": 7,
   "metadata": {},
   "outputs": [
    {
     "name": "stdout",
     "output_type": "stream",
     "text": [
      "26000.0\n"
     ]
    }
   ],
   "source": [
    "# 217 @\n",
    "def print_upper_price(a):\n",
    "    print(a * 1.3)\n",
    "\n",
    "print_upper_price(20000)"
   ]
  },
  {
   "cell_type": "markdown",
   "metadata": {},
   "source": [
    "##### 정답\n",
    "* def print_upper_price(price) :\n",
    "-     print(price * 1.3)"
   ]
  },
  {
   "cell_type": "code",
   "execution_count": 8,
   "metadata": {},
   "outputs": [
    {
     "name": "stdout",
     "output_type": "stream",
     "text": [
      "3\n"
     ]
    }
   ],
   "source": [
    "# 218\n",
    "def print_sum(a, b):\n",
    "    print(a + b)\n",
    "\n",
    "print_sum(1,2)"
   ]
  },
  {
   "cell_type": "markdown",
   "metadata": {},
   "source": [
    "##### 정답\n",
    "* def print_sum (a, b) :\n",
    "-     print (a + b)"
   ]
  },
  {
   "cell_type": "code",
   "execution_count": 9,
   "metadata": {},
   "outputs": [
    {
     "name": "stdout",
     "output_type": "stream",
     "text": [
      "3 + 4 = 7\n",
      "3 - 4 = -1\n",
      "3 * 4 = 12\n",
      "3 / 4 = 0.75\n"
     ]
    }
   ],
   "source": [
    "# 219\n",
    "def print_arithmetic_operation(a, b):\n",
    "    print(a, '+', b, '=', a + b)\n",
    "    print(a, '-', b, '=', a - b)\n",
    "    print(a, '*', b, '=', a * b)\n",
    "    print(a, '/', b, '=', a / b)\n",
    "\n",
    "print_arithmetic_operation(3, 4)"
   ]
  },
  {
   "cell_type": "markdown",
   "metadata": {},
   "source": [
    "##### 정답\n",
    "* def print_arithmetic_operation(a, b):\n",
    "-     print(a, \"+\", b, \"=\", a + b)\n",
    "-     print(a, \"-\", b, \"=\", a - b)\n",
    "-     print(a, \"*\", b, \"=\", a * b)\n",
    "-     print(a, \"/\", b, \"=\", a / b)"
   ]
  },
  {
   "cell_type": "code",
   "execution_count": 10,
   "metadata": {},
   "outputs": [
    {
     "name": "stdout",
     "output_type": "stream",
     "text": [
      "31\n"
     ]
    }
   ],
   "source": [
    "# 220\n",
    "def print_max(a, b, c):\n",
    "    if a > b and a > c:\n",
    "        print(a)\n",
    "    elif b > c and b > a:\n",
    "        print(b)\n",
    "    else:\n",
    "        print(c)\n",
    "print_max(3, 31, 5)"
   ]
  },
  {
   "cell_type": "markdown",
   "metadata": {},
   "source": [
    "##### 정답\n",
    "* def print_max(a, b, c) :\n",
    "-     max_val = 0\n",
    "-     if a > max_val :\n",
    "-         max_val = a\n",
    "-     if b > max_val :\n",
    "-         max_val = b\n",
    "-     if c > max_val :\n",
    "-         max_val = c\n",
    "-     print(max_val)\n",
    "\n",
    "* 지금까지써왔던 max 함수의 내부는 위와 비슷하게 구현되어 있을 겁니다.\n",
    "- max(a, b, c)"
   ]
  },
  {
   "cell_type": "markdown",
   "metadata": {},
   "source": []
  }
 ],
 "metadata": {
  "interpreter": {
   "hash": "f035cfb5c0f4d176dfac7534c1cf94e7b16c78fc3dae1f1e73c4ff9bbcf255ac"
  },
  "kernelspec": {
   "display_name": "Python 3.10.1 64-bit",
   "language": "python",
   "name": "python3"
  },
  "language_info": {
   "codemirror_mode": {
    "name": "ipython",
    "version": 3
   },
   "file_extension": ".py",
   "mimetype": "text/x-python",
   "name": "python",
   "nbconvert_exporter": "python",
   "pygments_lexer": "ipython3",
   "version": "3.10.1"
  },
  "orig_nbformat": 4
 },
 "nbformat": 4,
 "nbformat_minor": 2
}
