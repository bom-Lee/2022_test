{
 "cells": [
  {
   "cell_type": "markdown",
   "metadata": {},
   "source": [
    "# 07. 파이썬 분기문\n",
    "## 121 ~ 130"
   ]
  },
  {
   "cell_type": "code",
   "execution_count": 1,
   "metadata": {},
   "outputs": [
    {
     "name": "stdout",
     "output_type": "stream",
     "text": [
      "D\n"
     ]
    }
   ],
   "source": [
    "# 121\n",
    "# 힌트-1 : islower() 함수는 문자의 소문자 여부를 판별.\n",
    "# 만약 소문자일 경우 True, 대문자일 경우 False를 반환.\n",
    "# 힌트-2 : upper() 함수는 대문자로, lower() 함수는 소문자로 변경.\n",
    "a = input('')\n",
    "if a.islower():\n",
    "    print(a.upper())\n",
    "else:\n",
    "    print(a.lower())"
   ]
  },
  {
   "cell_type": "markdown",
   "metadata": {},
   "source": [
    "##### 정답\n",
    "* user = input(\"\")\n",
    "- if user.islower():\n",
    "-     print(user.upper())\n",
    "- else:\n",
    "-     print(user.lower())"
   ]
  },
  {
   "cell_type": "code",
   "execution_count": 3,
   "metadata": {},
   "outputs": [
    {
     "name": "stdout",
     "output_type": "stream",
     "text": [
      "grade is C\n"
     ]
    }
   ],
   "source": [
    "# 122\n",
    "a = input('score: ')\n",
    "a = int(a)\n",
    "if 81 <= a <= 100:\n",
    "    print('grade is A')\n",
    "elif 61 <= a <= 80:\n",
    "    print(\"grade is B\")\n",
    "elif 41 <= a <= 60:\n",
    "    print(\"grade is C\")\n",
    "elif 21 <= a <= 40:\n",
    "    print(\"grade is D\")\n",
    "else:\n",
    "    print(\"grade is E\")"
   ]
  },
  {
   "cell_type": "markdown",
   "metadata": {},
   "source": [
    "##### 정답\n",
    "* score = input(\"score: \")\n",
    "- score = int(score)\n",
    "- if 81 <= score <= 100:\n",
    "-     print(\"grade is A\")\n",
    "- elif 61 <= score <= 80:\n",
    "-     print(\"grade is B\")\n",
    "- elif 41 <= score <= 60:\n",
    "-     print(\"grade is C\")\n",
    "- elif 21 <= score <= 40:\n",
    "-     print(\"grade is D\")\n",
    "- else:\n",
    "-     print(\"grade is E\")"
   ]
  },
  {
   "cell_type": "code",
   "execution_count": 1,
   "metadata": {},
   "outputs": [
    {
     "name": "stdout",
     "output_type": "stream",
     "text": [
      "116700.0 원\n"
     ]
    }
   ],
   "source": [
    "# 123 @\n",
    "a = {'달러': 1167, '엔': 1.096, '유로' : 1268, '위안' : 171}\n",
    "b = input('입력: ')\n",
    "c, d = b.split()\n",
    "print(float(c) * a[d], '원')"
   ]
  },
  {
   "cell_type": "markdown",
   "metadata": {},
   "source": [
    "##### 정답\n",
    "* 환율 = {\"달러\": 1167, \n",
    "-         \"엔\": 1.096, \n",
    "-         \"유로\": 1268, \n",
    "-         \"위안\": 171}\n",
    "- user = input(\"입력: \")\n",
    "- num, currency = user.split()\n",
    "- print(float(num) * 환율[currency], \"원\")"
   ]
  },
  {
   "cell_type": "code",
   "execution_count": 2,
   "metadata": {},
   "outputs": [
    {
     "name": "stdout",
     "output_type": "stream",
     "text": [
      "20\n"
     ]
    }
   ],
   "source": [
    "# 124\n",
    "a = input('input number1: ')\n",
    "b = input('input number2: ')\n",
    "c = input('input number3 :')\n",
    "\n",
    "a = int(a)\n",
    "b = int(b)\n",
    "c = int(c)\n",
    "\n",
    "if a >= b and a >= c:\n",
    "    print(a)\n",
    "elif b >= a and b >= c:\n",
    "    print(b)\n",
    "else:\n",
    "    print(c)"
   ]
  },
  {
   "cell_type": "markdown",
   "metadata": {},
   "source": [
    "##### 정답\n",
    "* num1 = input(\"input number1: \")\n",
    "- num2 = input(\"input number2: \")\n",
    "- num3 = input(\"input number3: \")\n",
    "- num1 = int(num1)\n",
    "- num2 = int(num2)\n",
    "- num3 = int(num3)\n",
    "\n",
    "- if num1 >= num2 and num1 >= num3:\n",
    "-     print(num1)\n",
    "- elif num2 >= num1 and num2 >= num3:\n",
    "-     print(num2)\n",
    "- else:\n",
    "-     print(num3)"
   ]
  },
  {
   "cell_type": "code",
   "execution_count": 3,
   "metadata": {},
   "outputs": [
    {
     "name": "stdout",
     "output_type": "stream",
     "text": [
      "당신은 알수없음 사용자입니다.\n"
     ]
    }
   ],
   "source": [
    "# 125 @\n",
    "a = input('휴대전화 번호 입력: ')\n",
    "b = a.split('-')[0]\n",
    "if b == '011':\n",
    "    aa = 'SKT'\n",
    "elif b == '016':\n",
    "    aa == 'KT'\n",
    "elif b == '019':\n",
    "    aa == 'LGU'\n",
    "else:\n",
    "    aa = '알수없음'\n",
    "print(f'당신은 {aa} 사용자입니다.')"
   ]
  },
  {
   "cell_type": "markdown",
   "metadata": {},
   "source": [
    "##### 정답\n",
    "* number = input(\"휴대전화 번호 입력: \")\n",
    "- num = number.split(\"-\")[0]\n",
    "- if num == \"011\":\n",
    "-     com = \"SKT\"\n",
    "- elif num == \"016\":\n",
    "-     com = \"KT\"\n",
    "- elif num == \"019\":\n",
    "-     com = \"LGU\"\n",
    "- else:\n",
    "-     com = \"알수없음\"\n",
    "- print(f\"당신은 {com} 사용자입니다.\")"
   ]
  },
  {
   "cell_type": "code",
   "execution_count": 4,
   "metadata": {},
   "outputs": [
    {
     "name": "stdout",
     "output_type": "stream",
     "text": [
      "도봉구\n"
     ]
    }
   ],
   "source": [
    "# 126\n",
    "addnum = input('우편번호: ')\n",
    "addnum = addnum[:3]\n",
    "if addnum in ['010', '011', '012']:\n",
    "    print('강북구')\n",
    "elif addnum in ['014', '015', '016']:\n",
    "    print('도봉구')\n",
    "else:\n",
    "    print('노원구')"
   ]
  },
  {
   "cell_type": "markdown",
   "metadata": {},
   "source": [
    "##### 정답\n",
    "* 우편번호 = input(\"우편번호: \")\n",
    "- 우편번호 = 우편번호[:3]\n",
    "- if 우편번호 in [\"010\", \"011\", \"012\"]:\n",
    "-     print(\"강북구\")\n",
    "- elif 우편번호 in [\"014\", \"015\", \"016\"]:\n",
    "-     print(\"도봉구\")\n",
    "- else:\n",
    "-     print(\"노원구\")"
   ]
  },
  {
   "cell_type": "code",
   "execution_count": 5,
   "metadata": {},
   "outputs": [
    {
     "name": "stdout",
     "output_type": "stream",
     "text": [
      "남자\n"
     ]
    }
   ],
   "source": [
    "# 127\n",
    "IDnum = input(\"주민등록번호: \")\n",
    "IDnum = IDnum.split(\"-\")[1]\n",
    "if IDnum[0] == \"1\" or IDnum[0] == \"3\":\n",
    "    print(\"남자\")\n",
    "else:\n",
    "    print(\"여자\")"
   ]
  },
  {
   "cell_type": "markdown",
   "metadata": {},
   "source": [
    "##### 정답\n",
    "* 주민번호 = input(\"주민등록번호: \")\n",
    "- 주민번호 = 주민번호.split(\"-\")[1]\n",
    "- if 주민번호[0] == \"1\" or 주민번호[0] == \"3\":\n",
    "-     print(\"남자\")\n",
    "- else:\n",
    "-     print(\"여자\")"
   ]
  },
  {
   "cell_type": "code",
   "execution_count": 9,
   "metadata": {},
   "outputs": [
    {
     "name": "stdout",
     "output_type": "stream",
     "text": [
      "서울입니다.\n"
     ]
    }
   ],
   "source": [
    "# 128\n",
    "IDnum = input(\"주민등록번호: \")\n",
    "backnum = IDnum.split(\"-\")[1]\n",
    "if 0 <= int(backnum[1:3]) <= 8:\n",
    "    print(\"서울입니다.\")\n",
    "else:\n",
    "    print(\"서울이 아닙니다.\")"
   ]
  },
  {
   "cell_type": "markdown",
   "metadata": {},
   "source": [
    "##### 정답\n",
    "* "
   ]
  },
  {
   "cell_type": "code",
   "execution_count": 12,
   "metadata": {},
   "outputs": [
    {
     "name": "stdout",
     "output_type": "stream",
     "text": [
      "유효하지 않은 주민등록번호입니다.\n"
     ]
    }
   ],
   "source": [
    "# 129 @\n",
    "num = input(\"주민등록번호: \")\n",
    "a = int(num[0]) * 2 + int(num[1]) * 3 + int(num[2]) * 4 + int(num[3]) * 5 + int(num[4]) * 6 + \\\n",
    "        int(num[5]) * 7 + int(num[7]) * 8 + int(num[8]) * 9 + int(num[9]) * 2 + int(num[10])* 3 + \\\n",
    "        int(num[11])* 4 + int(num[12]) * 5\n",
    "b = 11 - (a % 11)\n",
    "c = str(b)\n",
    "\n",
    "if num[-1] == c[-1]:\n",
    "    print(\"유효한 주민등록번호입니다.\")\n",
    "else:\n",
    "    print(\"유효하지 않은 주민등록번호입니다.\")"
   ]
  },
  {
   "cell_type": "markdown",
   "metadata": {},
   "source": [
    "##### 정답\n",
    "* num = input(\"주민등록번호: \")\n",
    "- 계산1 = int(num[0]) * 2 + int(num[1]) * 3 + int(num[2]) * 4 + int(num[3]) * 5 + int(num[4]) * 6 + \\\n",
    "-         int(num[5]) * 7 + int(num[7]) * 8 + int(num[8]) * 9 + int(num[9]) * 2 + int(num[10])* 3 + \\\n",
    "-         int(num[11])* 4 + int(num[12]) * 5\n",
    "- 계산2 = 11 - (계산1 % 11)\n",
    "- 계산3 = str(계산2)\n",
    "\n",
    "- if num[-1] == 계산3[-1]:\n",
    "-     print(\"유효한 주민등록번호입니다.\")\n",
    "- else:\n",
    "-     print(\"유효하지 않은 주민등록번호입니다.\")"
   ]
  },
  {
   "cell_type": "code",
   "execution_count": 13,
   "metadata": {},
   "outputs": [],
   "source": [
    "# 130 @\n",
    "import requests\n",
    "btc = requests.get(\"https://api.bithumb.com/public/ticker/\").json()['data']\n",
    "\n",
    "변동폭 = float(btc['max_price']) - float(btc['min_price'])\n",
    "시가 = float(btc['opening_price'])\n",
    "최고가 = float(btc['max_price'])\n",
    "\n",
    "if (시가+변동폭) > 최고가:\n",
    "    print(\"상승장\")\n",
    "else:\n",
    "    print(\"하락장\")"
   ]
  },
  {
   "cell_type": "markdown",
   "metadata": {},
   "source": [
    "##### 정답\n",
    "* import requests\n",
    "- btc = requests.get(\"https://api.bithumb.com/public/ticker/\").json()['data']\n",
    "\n",
    "- 변동폭 = float(btc['max_price']) - float(btc['min_price'])\n",
    "- 시가 = float(btc['opening_price'])\n",
    "- 최고가 = float(btc['max_price'])\n",
    "\n",
    "- if (시가+변동폭) > 최고가:\n",
    "-    print(\"상승장\")\n",
    "- else:\n",
    "-     print(\"하락장\")"
   ]
  }
 ],
 "metadata": {
  "interpreter": {
   "hash": "f035cfb5c0f4d176dfac7534c1cf94e7b16c78fc3dae1f1e73c4ff9bbcf255ac"
  },
  "kernelspec": {
   "display_name": "Python 3.10.1 64-bit",
   "language": "python",
   "name": "python3"
  },
  "language_info": {
   "codemirror_mode": {
    "name": "ipython",
    "version": 3
   },
   "file_extension": ".py",
   "mimetype": "text/x-python",
   "name": "python",
   "nbconvert_exporter": "python",
   "pygments_lexer": "ipython3",
   "version": "3.10.1"
  },
  "orig_nbformat": 4
 },
 "nbformat": 4,
 "nbformat_minor": 2
}
