{
 "cells": [
  {
   "cell_type": "markdown",
   "metadata": {},
   "source": [
    "# 11. 파이썬 클래스\n",
    "## 261 ~ 270"
   ]
  },
  {
   "cell_type": "code",
   "execution_count": 1,
   "metadata": {},
   "outputs": [],
   "source": [
    "#  261 Stock 클래스 생성\n",
    "class Stock:\n",
    "    pass"
   ]
  },
  {
   "cell_type": "markdown",
   "metadata": {},
   "source": [
    "##### 정답\n",
    "* class Stock:\n",
    "-     pass"
   ]
  },
  {
   "cell_type": "code",
   "execution_count": 1,
   "metadata": {},
   "outputs": [
    {
     "name": "stdout",
     "output_type": "stream",
     "text": [
      "삼성전자\n",
      "005930\n"
     ]
    }
   ],
   "source": [
    "# 262 생성자\n",
    "class Stock:\n",
    "    def __init__(self, name, code):\n",
    "        self.name = name\n",
    "        self.code = code\n",
    "\n",
    "삼성 = Stock(\"삼성전자\", \"005930\")\n",
    "print(삼성.name)\n",
    "print(삼성.code)"
   ]
  },
  {
   "cell_type": "markdown",
   "metadata": {},
   "source": [
    "##### 정답\n",
    "* class Stock:\n",
    "-     def __init__(self, name, code):\n",
    "-         self.name = name\n",
    "-         self.code = code\n",
    "\n",
    "- 삼성 = Stock(\"삼성전자\", \"005930\")\n",
    "- print(삼성.name)\n",
    "- print(삼성.code)"
   ]
  },
  {
   "cell_type": "code",
   "execution_count": 2,
   "metadata": {},
   "outputs": [],
   "source": [
    "# 263 메서드 @\n",
    "class Stock:\n",
    "    def __init__(self, name, code):\n",
    "        self.name = name\n",
    "        self.code = code\n",
    "\n",
    "    def set_name(self, name):\n",
    "        self.name = name\n",
    "\n",
    "a = Stock(None, None)\n",
    "a.set_name('삼성전자')\n",
    "print(a.name)"
   ]
  },
  {
   "cell_type": "markdown",
   "metadata": {},
   "source": [
    "##### 정답\n",
    "* class Stock:\n",
    "-     def __init__(self, name, code):\n",
    "-         self.name = name\n",
    "-         self.code = code\n",
    "\n",
    "-     def set_name(self, name):\n",
    "-        self.name = name\n",
    "\n",
    "- a = Stock(None, None)\n",
    "- a.set_name(\"삼성전자\")  # Stock.set_name(a, \"삼성전자\")\n",
    "- print(a.name)"
   ]
  },
  {
   "cell_type": "code",
   "execution_count": 39,
   "metadata": {},
   "outputs": [
    {
     "name": "stdout",
     "output_type": "stream",
     "text": [
      "005930\n"
     ]
    }
   ],
   "source": [
    "# 264 메서드\n",
    "class Stock:\n",
    "    def __init__(self, name, code):\n",
    "        self.name = name\n",
    "        self.code = code\n",
    "\n",
    "    def set_name(self, name):\n",
    "        self.name = name\n",
    "\n",
    "    def set_code(self, code):\n",
    "        self.code = code\n",
    "\n",
    "a = Stock(None, None)\n",
    "a.set_code(\"005930\")\n",
    "print(a.code)"
   ]
  },
  {
   "cell_type": "markdown",
   "metadata": {},
   "source": [
    "##### 정답\n",
    "* class Stock:\n",
    "-     def __init__(self, name, code):\n",
    "-         self.name = name\n",
    "-         self.code = code\n",
    "\n",
    "-     def set_name(self, name):\n",
    "-         self.name = name\n",
    "\n",
    "-     def set_code(self, code):\n",
    "-         self.code = code\n",
    "\n",
    "- a = Stock(None, None)\n",
    "- a.set_code(\"005930\")\n",
    "- print(a.code)"
   ]
  },
  {
   "cell_type": "code",
   "execution_count": 40,
   "metadata": {},
   "outputs": [
    {
     "name": "stdout",
     "output_type": "stream",
     "text": [
      "삼성전자\n",
      "005930\n",
      "삼성전자\n",
      "005930\n"
     ]
    }
   ],
   "source": [
    "# 265 메서드\n",
    "class Stock:\n",
    "    def __init__(self, name, code):\n",
    "        self.name = name\n",
    "        self.code = code\n",
    "\n",
    "    def set_name(self, name):\n",
    "        self.name = name\n",
    "\n",
    "    def set_code(self, code):\n",
    "        self.code = code\n",
    "\n",
    "    def get_name(self):\n",
    "        return self.name\n",
    "\n",
    "    def get_code(self):\n",
    "        return self.code\n",
    "\n",
    "삼성 = Stock(\"삼성전자\", \"005930\")\n",
    "print(삼성.name)\n",
    "print(삼성.code)\n",
    "print(삼성.get_name())\n",
    "print(삼성.get_code())"
   ]
  },
  {
   "cell_type": "markdown",
   "metadata": {},
   "source": [
    "##### 정답\n",
    "* class Stock:\n",
    "-     def __init__(self, name, code):\n",
    "-         self.name = name\n",
    "-         self.code = code\n",
    "\n",
    "-     def set_name(self, name):\n",
    "-         self.name = name\n",
    "\n",
    "-     def set_code(self, code):\n",
    "-         self.code = code\n",
    "\n",
    "-     def get_name(self):\n",
    "-         return self.name\n",
    "\n",
    "-     def get_code(self):\n",
    "-         return self.code\n",
    "\n",
    "- 삼성 = Stock(\"삼성전자\", \"005930\")\n",
    "- print(삼성.name)\n",
    "- print(삼성.code)\n",
    "- print(삼성.get_name())\n",
    "- print(삼성.get_code())"
   ]
  },
  {
   "cell_type": "code",
   "execution_count": 41,
   "metadata": {},
   "outputs": [],
   "source": [
    "# 266 객체의 속성값 업데이트\n",
    "class Stock:\n",
    "    def __init__(self, name, code, per, pbr, 배당수익률):\n",
    "        self.name = name\n",
    "        self.code = code\n",
    "        self.per = per\n",
    "        self.pbr = pbr\n",
    "        self.배당수익률 = 배당수익률\n",
    "\n",
    "    def set_name(self, name):\n",
    "        self.name = name\n",
    "    \n",
    "    def set_code(self, code):\n",
    "        self.code = code\n",
    "    \n",
    "    def get_name(self):\n",
    "        return self.name\n",
    "    \n",
    "    def get_code(self):\n",
    "        return self.code"
   ]
  },
  {
   "cell_type": "markdown",
   "metadata": {},
   "source": [
    "##### 정답\n",
    "* class Stock:\n",
    "-     def __init__(self, name, code, per, pbr, 배당수익률):\n",
    "-         self.name = name\n",
    "-         self.code = code\n",
    "-         self.per = per\n",
    "-         self.pbr = pbr\n",
    "-         self.배당수익률 = 배당수익률\n",
    "\n",
    "-     def set_name(self, name):\n",
    "-         self.name = name\n",
    "\n",
    "-     def set_code(self, code):\n",
    "-         self.code = code\n",
    "\n",
    "-     def get_name(self):\n",
    "-         return self.name\n",
    "\n",
    "-     def get_code(self):\n",
    "-         return self.code"
   ]
  },
  {
   "cell_type": "code",
   "execution_count": 42,
   "metadata": {},
   "outputs": [
    {
     "name": "stdout",
     "output_type": "stream",
     "text": [
      "2.83\n"
     ]
    }
   ],
   "source": [
    "# 267 객체 생성\n",
    "삼성 = Stock('삼성전자', '005930', 15.79, 1.33, 2.83)\n",
    "print(삼성.배당수익률)"
   ]
  },
  {
   "cell_type": "markdown",
   "metadata": {},
   "source": [
    "##### 정답\n",
    "* 삼성 = Stock(\"삼성전자\", \"005930\", 15.79, 1.33, 2.83)\n",
    "- print(삼성.배당수익률)"
   ]
  },
  {
   "cell_type": "code",
   "execution_count": 43,
   "metadata": {},
   "outputs": [],
   "source": [
    "# 268 객체의 속성 수정\n",
    "class Stock:\n",
    "    def __init__(self, name, code, per, pbr, dividend):\n",
    "        self.name = name\n",
    "        self.code = code\n",
    "        self.per = per\n",
    "        self.pbr = pbr\n",
    "        self.dividend = dividend\n",
    "\n",
    "    def set_name(self, name):\n",
    "        self.name = name\n",
    "\n",
    "    def set_code(self, code):\n",
    "        self.code = code\n",
    "\n",
    "    def get_name(self):\n",
    "        return self.name\n",
    "\n",
    "    def get_code(self):\n",
    "        return self.code\n",
    "\n",
    "    def set_per(self, per):\n",
    "        self.per = per\n",
    "\n",
    "    def set_pbr(self, pbr):\n",
    "        self.pbr = pbr\n",
    "\n",
    "    def set_dividend(self, dividend):\n",
    "        self.dividend = dividend"
   ]
  },
  {
   "cell_type": "markdown",
   "metadata": {},
   "source": [
    "##### 정답\n",
    "* class Stock:\n",
    "-     def __init__(self, name, code, per, pbr, dividend):\n",
    "-         self.name = name\n",
    "-         self.code = code\n",
    "-         self.per = per\n",
    "-         self.pbr = pbr\n",
    "-         self.dividend = dividend\n",
    "\n",
    "-     def set_name(self, name):\n",
    "-         self.name = name\n",
    "\n",
    "-     def set_code(self, code):\n",
    "-         self.code = code\n",
    "\n",
    "-     def get_name(self):\n",
    "-         return self.name\n",
    "\n",
    "-     def get_code(self):\n",
    "-         return self.code\n",
    "\n",
    "-     def set_per(self, per):\n",
    "-         self.per = per\n",
    "\n",
    "-     def set_pbr(self, pbr):\n",
    "-         self.pbr = pbr\n",
    "\n",
    "-     def set_dividend(self, dividend):\n",
    "-         self.dividend = dividend"
   ]
  },
  {
   "cell_type": "code",
   "execution_count": 46,
   "metadata": {},
   "outputs": [
    {
     "name": "stdout",
     "output_type": "stream",
     "text": [
      "12.75\n"
     ]
    }
   ],
   "source": [
    "# 269 객체의 속성 수정\n",
    "삼성 = Stock('삼성전자', '005930', 15.79, 1.33, 2.83)\n",
    "삼성.set_per(12.75)\n",
    "print(삼성.per)"
   ]
  },
  {
   "cell_type": "markdown",
   "metadata": {},
   "source": [
    "##### 정답\n",
    "* "
   ]
  },
  {
   "cell_type": "code",
   "execution_count": 47,
   "metadata": {},
   "outputs": [
    {
     "ename": "TypeError",
     "evalue": "Stock.__init__() takes 6 positional arguments but 7 were given",
     "output_type": "error",
     "traceback": [
      "\u001b[1;31m---------------------------------------------------------------------------\u001b[0m",
      "\u001b[1;31mTypeError\u001b[0m                                 Traceback (most recent call last)",
      "\u001b[1;32mc:\\Users\\Spring\\Desktop\\test\\초보자를 위한 파이썬 300제\\11. 파이썬 클래스\\261~270_class.ipynb Cell 20'\u001b[0m in \u001b[0;36m<module>\u001b[1;34m\u001b[0m\n\u001b[0;32m      <a href='vscode-notebook-cell:/c%3A/Users/Spring/Desktop/test/%EC%B4%88%EB%B3%B4%EC%9E%90%EB%A5%BC%20%EC%9C%84%ED%95%9C%20%ED%8C%8C%EC%9D%B4%EC%8D%AC%20300%EC%A0%9C/11.%20%ED%8C%8C%EC%9D%B4%EC%8D%AC%20%ED%81%B4%EB%9E%98%EC%8A%A4/261~270_class.ipynb#ch0000019?line=0'>1</a>\u001b[0m \u001b[39m# 270 여러 종목의 객체 생성\u001b[39;00m\n\u001b[0;32m      <a href='vscode-notebook-cell:/c%3A/Users/Spring/Desktop/test/%EC%B4%88%EB%B3%B4%EC%9E%90%EB%A5%BC%20%EC%9C%84%ED%95%9C%20%ED%8C%8C%EC%9D%B4%EC%8D%AC%20300%EC%A0%9C/11.%20%ED%8C%8C%EC%9D%B4%EC%8D%AC%20%ED%81%B4%EB%9E%98%EC%8A%A4/261~270_class.ipynb#ch0000019?line=1'>2</a>\u001b[0m 종목 \u001b[39m=\u001b[39m []\n\u001b[1;32m----> <a href='vscode-notebook-cell:/c%3A/Users/Spring/Desktop/test/%EC%B4%88%EB%B3%B4%EC%9E%90%EB%A5%BC%20%EC%9C%84%ED%95%9C%20%ED%8C%8C%EC%9D%B4%EC%8D%AC%20300%EC%A0%9C/11.%20%ED%8C%8C%EC%9D%B4%EC%8D%AC%20%ED%81%B4%EB%9E%98%EC%8A%A4/261~270_class.ipynb#ch0000019?line=3'>4</a>\u001b[0m 삼성 \u001b[39m=\u001b[39m Stock(\u001b[39m'\u001b[39;49m\u001b[39m삼성전자\u001b[39;49m\u001b[39m'\u001b[39;49m, \u001b[39m'\u001b[39;49m\u001b[39m005930\u001b[39;49m\u001b[39m'\u001b[39;49m, \u001b[39m15.79\u001b[39;49m, \u001b[39m1.33\u001b[39;49m, \u001b[39m2\u001b[39;49m,\u001b[39m83\u001b[39;49m)\n\u001b[0;32m      <a href='vscode-notebook-cell:/c%3A/Users/Spring/Desktop/test/%EC%B4%88%EB%B3%B4%EC%9E%90%EB%A5%BC%20%EC%9C%84%ED%95%9C%20%ED%8C%8C%EC%9D%B4%EC%8D%AC%20300%EC%A0%9C/11.%20%ED%8C%8C%EC%9D%B4%EC%8D%AC%20%ED%81%B4%EB%9E%98%EC%8A%A4/261~270_class.ipynb#ch0000019?line=4'>5</a>\u001b[0m 현대차 \u001b[39m=\u001b[39m Stock(\u001b[39m'\u001b[39m\u001b[39m현대차\u001b[39m\u001b[39m'\u001b[39m, \u001b[39m'\u001b[39m\u001b[39m005380\u001b[39m\u001b[39m'\u001b[39m, \u001b[39m8.70\u001b[39m, \u001b[39m0.35\u001b[39m, \u001b[39m4.27\u001b[39m)\n\u001b[0;32m      <a href='vscode-notebook-cell:/c%3A/Users/Spring/Desktop/test/%EC%B4%88%EB%B3%B4%EC%9E%90%EB%A5%BC%20%EC%9C%84%ED%95%9C%20%ED%8C%8C%EC%9D%B4%EC%8D%AC%20300%EC%A0%9C/11.%20%ED%8C%8C%EC%9D%B4%EC%8D%AC%20%ED%81%B4%EB%9E%98%EC%8A%A4/261~270_class.ipynb#ch0000019?line=5'>6</a>\u001b[0m LG전자 \u001b[39m=\u001b[39m Stock(\u001b[39m'\u001b[39m\u001b[39mLG전자\u001b[39m\u001b[39m'\u001b[39m, \u001b[39m'\u001b[39m\u001b[39m066570\u001b[39m\u001b[39m'\u001b[39m, \u001b[39m317.34\u001b[39m, \u001b[39m0.69\u001b[39m, \u001b[39m1.37\u001b[39m)\n",
      "\u001b[1;31mTypeError\u001b[0m: Stock.__init__() takes 6 positional arguments but 7 were given"
     ]
    }
   ],
   "source": [
    "# 270 여러 종목의 객체 생성\n",
    "종목 = []\n",
    "\n",
    "삼성 = Stock('삼성전자', '005930', 15.79, 1.33, 2,83)\n",
    "현대차 = Stock('현대차', '005380', 8.70, 0.35, 4.27)\n",
    "LG전자 = Stock('LG전자', '066570', 317.34, 0.69, 1.37)\n",
    "\n",
    "종목.append(삼성)\n",
    "종목.append(현대차)\n",
    "종목.append(LG전자)\n",
    "\n",
    "for i in 종목:\n",
    "    print(i, code, i.per)"
   ]
  },
  {
   "cell_type": "markdown",
   "metadata": {},
   "source": [
    "##### 정답\n",
    "* 종목 = []\n",
    "\n",
    "- 삼성 = Stock(\"삼성전자\", \"005930\", 15.79, 1.33, 2.83)\n",
    "- 현대차 = Stock(\"현대차\", \"005380\", 8.70, 0.35, 4.27)\n",
    "- LG전자 = Stock(\"LG전자\", \"066570\", 317.34, 0.69, 1.37)\n",
    "\n",
    "- 종목.append(삼성)\n",
    "- 종목.append(현대차)\n",
    "- 종목.append(LG전자)\n",
    "\n",
    "- for i in 종목:\n",
    "-     print(i.code, i.per)        # i-> Stock 클래스의 객체를 바인딩하기 때문"
   ]
  }
 ],
 "metadata": {
  "interpreter": {
   "hash": "f035cfb5c0f4d176dfac7534c1cf94e7b16c78fc3dae1f1e73c4ff9bbcf255ac"
  },
  "kernelspec": {
   "display_name": "Python 3.10.1 64-bit",
   "language": "python",
   "name": "python3"
  },
  "language_info": {
   "codemirror_mode": {
    "name": "ipython",
    "version": 3
   },
   "file_extension": ".py",
   "mimetype": "text/x-python",
   "name": "python",
   "nbconvert_exporter": "python",
   "pygments_lexer": "ipython3",
   "version": "3.10.1"
  },
  "orig_nbformat": 4
 },
 "nbformat": 4,
 "nbformat_minor": 2
}
