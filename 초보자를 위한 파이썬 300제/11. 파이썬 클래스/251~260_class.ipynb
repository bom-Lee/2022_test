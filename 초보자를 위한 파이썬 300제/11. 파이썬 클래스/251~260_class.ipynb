{
 "cells": [
  {
   "cell_type": "markdown",
   "metadata": {},
   "source": [
    "# 11. 파이썬 클래스\n",
    "- 파이썬 클래스는 타입을 만들어내는 도구. int, float, str과 같이 새로운 타입을 만들 수 있음.\n",
    "\n",
    "## 251 ~ 260"
   ]
  },
  {
   "cell_type": "code",
   "execution_count": 1,
   "metadata": {},
   "outputs": [],
   "source": [
    "# 251 클래스, 객체, 인스턴스\n",
    "# 클래스, 객체, 인스턴스에 대해 설명\n",
    "\n",
    "# 클래스 : 어떤 틀, 똑같은 무엇을 계속 만들어 내는 것.\n",
    "# 프로그래밍으로 객체를 생성할 때 사용. 객체를 표현하기 위한 문법.\n",
    "\n",
    "# 객체 = 인스턴스 - 같은 의미\n",
    "# 객체 : 틀에 의해 만들어진 하나하나를 객체.\n",
    "# 보통 객체만 지칭.\n",
    "\n",
    "# 인스턴스 : 클래스(class)의 객체(object)가 소프트웨어에 실체화됨.\n",
    "# 클래스와 객체를 연관지어서 말할 때, 객체를 인스턴스라고 지칭."
   ]
  },
  {
   "cell_type": "markdown",
   "metadata": {},
   "source": [
    "##### 정답\n",
    "* "
   ]
  },
  {
   "cell_type": "code",
   "execution_count": 2,
   "metadata": {},
   "outputs": [],
   "source": [
    "# 252 클래스 정의\n",
    "class Human:\n",
    "    pass"
   ]
  },
  {
   "cell_type": "markdown",
   "metadata": {},
   "source": [
    "##### 정답\n",
    "* class Human:\n",
    "-     pass"
   ]
  },
  {
   "cell_type": "code",
   "execution_count": 3,
   "metadata": {},
   "outputs": [],
   "source": [
    "# 253 인스턴스 생성\n",
    "class Human:\n",
    "    pass\n",
    "\n",
    "areum = Human()"
   ]
  },
  {
   "cell_type": "markdown",
   "metadata": {},
   "source": [
    "##### 정답\n",
    "* class Human:\n",
    "-     pass\n",
    "\n",
    "- areum = Human()"
   ]
  },
  {
   "cell_type": "code",
   "execution_count": 4,
   "metadata": {},
   "outputs": [],
   "source": [
    "# 254 클래스 생성자-1\n",
    "class Human:\n",
    "    def _init_(self):\n",
    "        print('응애응애')\n",
    "        \n",
    "areum = Human()"
   ]
  },
  {
   "cell_type": "markdown",
   "metadata": {},
   "source": [
    "##### 정답\n",
    "* class Human:\n",
    "-     def __init__(self):\n",
    "-         print(\"응애응애\")\n",
    "\n",
    "- areum = Human()"
   ]
  },
  {
   "cell_type": "code",
   "execution_count": 5,
   "metadata": {},
   "outputs": [
    {
     "name": "stdout",
     "output_type": "stream",
     "text": [
      "아름\n"
     ]
    }
   ],
   "source": [
    "# 255 클래스 생성자-2\n",
    "class Human:\n",
    "    def __init__(self, name, age, sex):\n",
    "        self.name = name\n",
    "        self.age = age\n",
    "        self.sex = sex\n",
    "\n",
    "areum = Human(\"아름\", 25, \"여자\")\n",
    "print(areum.name)"
   ]
  },
  {
   "cell_type": "markdown",
   "metadata": {},
   "source": [
    "##### 정답\n",
    "* class Human:\n",
    "    def __init__(self, name, age, sex):\n",
    "        self.name = name\n",
    "        self.age = age\n",
    "        self.sex = sex\n",
    "\n",
    "areum = Human(\"아름\", 25, \"여자\")\n",
    "print(areum.name)"
   ]
  },
  {
   "cell_type": "code",
   "execution_count": 6,
   "metadata": {},
   "outputs": [
    {
     "name": "stdout",
     "output_type": "stream",
     "text": [
      "25\n"
     ]
    }
   ],
   "source": [
    "# 256 인스턴스 속성에 접근\n",
    "class Human:\n",
    "    def __init__(self, name, age, sex):\n",
    "        self.name = name\n",
    "        self.age = age\n",
    "        self.sex = sex\n",
    "areum = Human('아름', 25, '여자')\n",
    "print(areum.age)"
   ]
  },
  {
   "cell_type": "markdown",
   "metadata": {},
   "source": [
    "##### 정답\n",
    "* class Human:\n",
    "-     def __init__(self, name, age, sex):\n",
    "-         self.name = name\n",
    "-         self.age = age\n",
    "-         self.sex = sex\n",
    "\n",
    "- areum = Human(\"아름\", 25, \"여자\")\n",
    "- print(areum.age)"
   ]
  },
  {
   "cell_type": "code",
   "execution_count": 7,
   "metadata": {},
   "outputs": [
    {
     "name": "stdout",
     "output_type": "stream",
     "text": [
      "이름: 아름 나이: 25 성별: 여자\n"
     ]
    }
   ],
   "source": [
    "# 257 클래스 메소드 - 1\n",
    "class Human:\n",
    "    def __init__(self, name, age, sex):\n",
    "        self.name = name\n",
    "        self.age = age\n",
    "        self.sex = sex\n",
    "\n",
    "    def who(self):\n",
    "        print('이름: {} 나이: {} 성별: {}'.format(self.name, self.age, self.sex))\n",
    "\n",
    "areum = Human('아름', 25, '여자')\n",
    "areum.who()"
   ]
  },
  {
   "cell_type": "markdown",
   "metadata": {},
   "source": [
    "##### 정답\n",
    "* class Human:\n",
    "-     def __init__(self, name, age, sex):\n",
    "-         self.name = name\n",
    "-         self.age = age\n",
    "-         self.sex = sex\n",
    "\n",
    "-     def who(self):\n",
    "-         print(\"이름: {} 나이: {} 성별: {}\".format(self.name, self.age, self.sex))\n",
    "\n",
    "- areum = Human(\"아름\", 25, \"여자\")\n",
    "- areum.who()      # Human.who(areum)"
   ]
  },
  {
   "cell_type": "code",
   "execution_count": 8,
   "metadata": {},
   "outputs": [
    {
     "name": "stdout",
     "output_type": "stream",
     "text": [
      "이름: 모름 나이: 0 성별 : 모름\n",
      "이름: 아름 나이: 25 성별 : 여자\n"
     ]
    }
   ],
   "source": [
    "# 258 클래스 메소드 - 2 @\n",
    "class Human:\n",
    "    def __init__(self, name, age, sex):\n",
    "        self.name = name\n",
    "        self.age = age\n",
    "        self.sex = sex\n",
    "\n",
    "    def who(self):\n",
    "        print('이름: {} 나이: {} 성별 : {}'.format(self.name, self.age, self.sex))\n",
    "\n",
    "    def setInfo(self, name, age, sex):\n",
    "        self.name = name\n",
    "        self.age = age\n",
    "        self.sex = sex\n",
    "\n",
    "areum = Human(\"모름\", 0, \"모름\")\n",
    "areum.who()\n",
    "\n",
    "areum.setInfo(\"아름\", 25, \"여자\")\n",
    "areum.who()"
   ]
  },
  {
   "cell_type": "markdown",
   "metadata": {},
   "source": [
    "##### 정답\n",
    "* class Human:\n",
    "-     def __init__(self, name, age, sex):\n",
    "-         self.name = name\n",
    "-         self.age = age\n",
    "-         self.sex = sex\n",
    "\n",
    "-     def who(self):\n",
    "-         print(\"이름: {} 나이: {} 성별: {}\".format(self.name, self.age, self.sex))\n",
    "\n",
    "-     def setInfo(self, name, age, sex):\n",
    "-         self.name = name\n",
    "-         self.age = age\n",
    "-         self.sex = sex\n",
    "\n",
    "\n",
    "- areum = Human(\"불명\", \"미상\", \"모름\")\n",
    "- areum.who()      # Human.who(areum)\n",
    "\n",
    "- areum.setInfo(\"아름\", 25, \"여자\")\n",
    "- areum.who()      # Human.who(areum)"
   ]
  },
  {
   "cell_type": "code",
   "execution_count": 9,
   "metadata": {},
   "outputs": [
    {
     "name": "stdout",
     "output_type": "stream",
     "text": [
      "이름: 아름 나이: 25 성별: 여자\n"
     ]
    }
   ],
   "source": [
    "# 259 클래스 소멸자\n",
    "class Human:\n",
    "    def __init__(self, name, age, sex):\n",
    "        self.name = name\n",
    "        self.age = age\n",
    "        self.sex = sex\n",
    "    \n",
    "    def __def__(self):\n",
    "        print('나의 죽음을 알리지마라')\n",
    "\n",
    "    def who(self):\n",
    "        print('이름: {} 나이: {} 성별: {}'.format(self.name, self.age, self.sex))\n",
    "\n",
    "    def setInfo(self, name, age, sex):\n",
    "        self.name = name\n",
    "        self.age = age\n",
    "        self.sex = sex\n",
    "\n",
    "areum = Human(\"아름\", 25, \"여자\")\n",
    "areum.who()\n",
    "\n",
    "del(areum)"
   ]
  },
  {
   "cell_type": "markdown",
   "metadata": {},
   "source": [
    "##### 정답\n",
    "* class Human:\n",
    "-     def __init__(self, name, age, sex):\n",
    "-         self.name = name\n",
    "-         self.age = age\n",
    "-         self.sex = sex\n",
    "\n",
    "-     def __del__(self):\n",
    "-         print(\"나의 죽음을 알리지마라\")\n",
    "\n",
    "-     def who(self):\n",
    "-         print(\"이름: {} 나이: {} 성별: {}\".format(self.name, self.age, self.sex))\n",
    "\n",
    "-     def setInfo(self, name, age, sex):\n",
    "-         self.name = name\n",
    "-         self.age = age\n",
    "-         self.sex = sex\n",
    "\n",
    "- areum = Human(\"아름\", 25, \"여자\")\n",
    "- del(areum)"
   ]
  },
  {
   "cell_type": "code",
   "execution_count": 10,
   "metadata": {},
   "outputs": [
    {
     "ename": "TypeError",
     "evalue": "OMG.print() takes 0 positional arguments but 1 was given",
     "output_type": "error",
     "traceback": [
      "\u001b[1;31m---------------------------------------------------------------------------\u001b[0m",
      "\u001b[1;31mTypeError\u001b[0m                                 Traceback (most recent call last)",
      "Input \u001b[1;32mIn [10]\u001b[0m, in \u001b[0;36m<module>\u001b[1;34m\u001b[0m\n\u001b[0;32m      4\u001b[0m         \u001b[39mprint\u001b[39m(\u001b[39m\"\u001b[39m\u001b[39mOh my god\u001b[39m\u001b[39m\"\u001b[39m)\n\u001b[0;32m      6\u001b[0m myStock \u001b[39m=\u001b[39m OMG()\n\u001b[1;32m----> 7\u001b[0m myStock\u001b[39m.\u001b[39;49mprint()\n",
      "\u001b[1;31mTypeError\u001b[0m: OMG.print() takes 0 positional arguments but 1 was given"
     ]
    }
   ],
   "source": [
    "# 260 에러의 원인\n",
    "class OMG : \n",
    "    def print() :\n",
    "        print(\"Oh my god\")\n",
    "\n",
    "myStock = OMG()\n",
    "myStock.print()"
   ]
  },
  {
   "cell_type": "markdown",
   "metadata": {},
   "source": [
    "##### 정답\n",
    "* class OMG :\n",
    "-     def print() :\n",
    "-         print(\"Oh my god\")\n",
    "\n",
    "\n",
    "- mystock = OMG()\n",
    "- mystock.print()      # OMG.print(mystock)"
   ]
  }
 ],
 "metadata": {
  "interpreter": {
   "hash": "f035cfb5c0f4d176dfac7534c1cf94e7b16c78fc3dae1f1e73c4ff9bbcf255ac"
  },
  "kernelspec": {
   "display_name": "Python 3.10.1 64-bit",
   "language": "python",
   "name": "python3"
  },
  "language_info": {
   "codemirror_mode": {
    "name": "ipython",
    "version": 3
   },
   "file_extension": ".py",
   "mimetype": "text/x-python",
   "name": "python",
   "nbconvert_exporter": "python",
   "pygments_lexer": "ipython3",
   "version": "3.10.1"
  },
  "orig_nbformat": 4
 },
 "nbformat": 4,
 "nbformat_minor": 2
}
