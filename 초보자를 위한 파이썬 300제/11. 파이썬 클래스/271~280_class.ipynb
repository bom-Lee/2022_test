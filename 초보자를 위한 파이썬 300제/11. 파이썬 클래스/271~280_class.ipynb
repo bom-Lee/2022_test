{
 "cells": [
  {
   "cell_type": "markdown",
   "metadata": {},
   "source": [
    "# 11. 파이썬 클래스\n",
    "## 271 ~ 280"
   ]
  },
  {
   "cell_type": "code",
   "execution_count": 14,
   "metadata": {},
   "outputs": [
    {
     "name": "stdout",
     "output_type": "stream",
     "text": [
      "김민수\n",
      "100\n",
      "SC은행\n",
      "969-82-042291\n"
     ]
    }
   ],
   "source": [
    "# 271 Account 클래스\n",
    "import random\n",
    "\n",
    "class Account:\n",
    "    def __init__(self, name, balance):\n",
    "        self.name = name\n",
    "        self.balance = balance\n",
    "        self.bank = 'SC은행'\n",
    "        num1 = random.randint(0, 999)\n",
    "        num2 = random.randint(0, 99)\n",
    "        num3 = random.randint(0, 999999)\n",
    "\n",
    "        num1 = str(num1).zfill(3)\n",
    "        num2 = str(num2).zfill(2)\n",
    "        num3 = str(num3).zfill(6)\n",
    "        self.accout_number = num1 + '-' + num2 + '-' + num3\n",
    "\n",
    "kim = Account('김민수', 100)\n",
    "print(kim.name)\n",
    "print(kim.balance)\n",
    "print(kim.bank)\n",
    "print(kim.account_number)"
   ]
  },
  {
   "cell_type": "markdown",
   "metadata": {},
   "source": [
    "##### 정답\n",
    "* import random\n",
    "\n",
    "- class Account:\n",
    "-     def __init__(self, name, balance):\n",
    "-         self.name = name\n",
    "-         self.balance = balance\n",
    "-         self.bank = \"SC은행\"\n",
    "-         num1 = random.randint(0, 999)\n",
    "-         num2 = random.randint(0, 99)\n",
    "-         num3 = random.randint(0, 999999)\n",
    "\n",
    "-         num1 = str(num1).zfill(3)      # 1 -> '1' -> '001'\n",
    "-         num2 = str(num2).zfill(2)      # 1 -> '1' -> '01'\n",
    "-         num3 = str(num3).zfill(6)      # 1 -> '1' -> '0000001'\n",
    "-         self.account_number = num1 + '-' + num2 + '-' + num3  # 001-01-000001\n",
    "\n",
    "- kim = Account(\"김민수\", 100)\n",
    "- print(kim.name)\n",
    "- print(kim.balance)\n",
    "- print(kim.bank)\n",
    "- print(kim.account_number)"
   ]
  },
  {
   "cell_type": "code",
   "execution_count": 15,
   "metadata": {},
   "outputs": [
    {
     "name": "stdout",
     "output_type": "stream",
     "text": [
      "1\n",
      "2\n"
     ]
    }
   ],
   "source": [
    "# 272 클래스 변수\n",
    "import random\n",
    "\n",
    "class Account:\n",
    "    account_count = 0\n",
    "\n",
    "    def __init__(self, name, balance):\n",
    "        self.name = name\n",
    "        self.balance = balance\n",
    "        self.bank = 'SC은행'\n",
    "\n",
    "        num1 = random.randint(0, 999)\n",
    "        num2 = random.randint(0, 99)\n",
    "        num3 = random.randint(0, 999999)\n",
    "\n",
    "        num1 = str(num1).zfill(3)\n",
    "        num2 = str(num2).zfill(2)\n",
    "        num3 = str(num3).zfill(6)\n",
    "        self.accout_number = num1 + '-' + num2 + '-' + num3\n",
    "\n",
    "        Account.account_count += 1\n",
    "\n",
    "kim = Account('김민수', 100)\n",
    "print(Account.account_count)\n",
    "lee = Account('이민수', 100)\n",
    "print(Account.account_count)"
   ]
  },
  {
   "cell_type": "markdown",
   "metadata": {},
   "source": [
    "##### 정답\n",
    "* import random\n",
    "\n",
    "- class Account:\n",
    "-     # class variable\n",
    "-     account_count = 0\n",
    "\n",
    "-     def __init__(self, name, balance):\n",
    "-         self.name = name\n",
    "-         self.balance = balance\n",
    "-         self.bank = \"SC은행\"\n",
    "- \n",
    "-         num1 = random.randint(0, 999)\n",
    "-         num2 = random.randint(0, 99)\n",
    "-         num3 = random.randint(0, 999999)\n",
    "- \n",
    "-         num1 = str(num1).zfill(3)      # 1 -> '1' -> '001'\n",
    "-         num2 = str(num2).zfill(2)      # 1 -> '1' -> '01'\n",
    "-         num3 = str(num3).zfill(6)      # 1 -> '1' -> '0000001'\n",
    "-         self.account_number = num1 + '-' + num2 + '-' + num3  # 001-01-000001\n",
    "\n",
    "-         Account.account_count += 1\n",
    "\n",
    "\n",
    "- kim = Account(\"김민수\", 100)\n",
    "- print(Account.account_count)\n",
    "- lee = Account(\"이민수\", 100)\n",
    "- print(Account.account_count)"
   ]
  },
  {
   "cell_type": "code",
   "execution_count": 16,
   "metadata": {},
   "outputs": [],
   "source": [
    "# 273 클래스 변수 출력\n",
    "import random\n",
    "\n",
    "class Account:\n",
    "    account_count = 0\n",
    "    def __init__(self, name, blance):\n",
    "        self.name = name\n",
    "        self.balance = balance\n",
    "        "
   ]
  },
  {
   "cell_type": "markdown",
   "metadata": {},
   "source": [
    "##### 정답\n",
    "* "
   ]
  },
  {
   "cell_type": "code",
   "execution_count": 17,
   "metadata": {},
   "outputs": [],
   "source": [
    "# 274 입금 메서드\n"
   ]
  },
  {
   "cell_type": "markdown",
   "metadata": {},
   "source": [
    "##### 정답\n",
    "* "
   ]
  },
  {
   "cell_type": "code",
   "execution_count": 18,
   "metadata": {},
   "outputs": [],
   "source": [
    "# 275 출금 메서드\n"
   ]
  },
  {
   "cell_type": "markdown",
   "metadata": {},
   "source": [
    "##### 정답\n",
    "* "
   ]
  },
  {
   "cell_type": "code",
   "execution_count": 19,
   "metadata": {},
   "outputs": [],
   "source": [
    "# 276 정보 출력 메서드\n"
   ]
  },
  {
   "cell_type": "markdown",
   "metadata": {},
   "source": [
    "##### 정답\n",
    "* "
   ]
  },
  {
   "cell_type": "code",
   "execution_count": 20,
   "metadata": {},
   "outputs": [],
   "source": [
    "# 277 이자 지급하기\n"
   ]
  },
  {
   "cell_type": "markdown",
   "metadata": {},
   "source": [
    "##### 정답\n",
    "* "
   ]
  },
  {
   "cell_type": "code",
   "execution_count": 21,
   "metadata": {},
   "outputs": [],
   "source": [
    "# 278 여러 객체 생성\n"
   ]
  },
  {
   "cell_type": "markdown",
   "metadata": {},
   "source": [
    "##### 정답\n",
    "* "
   ]
  },
  {
   "cell_type": "code",
   "execution_count": 22,
   "metadata": {},
   "outputs": [],
   "source": [
    "# 279 객체 순회\n"
   ]
  },
  {
   "cell_type": "markdown",
   "metadata": {},
   "source": [
    "##### 정답\n",
    "* "
   ]
  },
  {
   "cell_type": "code",
   "execution_count": 23,
   "metadata": {},
   "outputs": [],
   "source": [
    "# 280 입출금 내역\n"
   ]
  },
  {
   "cell_type": "markdown",
   "metadata": {},
   "source": [
    "##### 정답\n",
    "* "
   ]
  }
 ],
 "metadata": {
  "interpreter": {
   "hash": "f035cfb5c0f4d176dfac7534c1cf94e7b16c78fc3dae1f1e73c4ff9bbcf255ac"
  },
  "kernelspec": {
   "display_name": "Python 3.10.1 64-bit",
   "language": "python",
   "name": "python3"
  },
  "language_info": {
   "codemirror_mode": {
    "name": "ipython",
    "version": 3
   },
   "file_extension": ".py",
   "mimetype": "text/x-python",
   "name": "python",
   "nbconvert_exporter": "python",
   "pygments_lexer": "ipython3",
   "version": "3.10.1"
  },
  "orig_nbformat": 4
 },
 "nbformat": 4,
 "nbformat_minor": 2
}
