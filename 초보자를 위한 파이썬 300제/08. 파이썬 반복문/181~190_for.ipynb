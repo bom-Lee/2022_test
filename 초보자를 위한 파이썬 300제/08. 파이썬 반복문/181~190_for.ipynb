{
 "cells": [
  {
   "cell_type": "markdown",
   "metadata": {},
   "source": [
    "# 08. 파이썬 반복문\n",
    "## 181 ~ 190"
   ]
  },
  {
   "cell_type": "code",
   "execution_count": 1,
   "metadata": {},
   "outputs": [],
   "source": [
    "# 181\n",
    "apart = [['101호', '102호'], ['201호', '202호'], ['301호', '302호']]\n"
   ]
  },
  {
   "cell_type": "markdown",
   "metadata": {},
   "source": [
    "##### 정답\n",
    "* apart = [ [\"101호\", \"102호\"], [\"201호\", \"202호\"], [\"301호\", \"302호\"] ]"
   ]
  },
  {
   "cell_type": "code",
   "execution_count": 2,
   "metadata": {},
   "outputs": [],
   "source": [
    "# 182\n",
    "stock = [['시가', 100, 200, 300], ['종가', 80, 210, 330]]"
   ]
  },
  {
   "cell_type": "markdown",
   "metadata": {},
   "source": [
    "##### 정답\n",
    "* stock = [ [\"시가\", 100, 200, 300], [\"종가\", 80, 210, 330] ]"
   ]
  },
  {
   "cell_type": "code",
   "execution_count": 3,
   "metadata": {},
   "outputs": [],
   "source": [
    "# 183\n",
    "stock = {'시가': [100, 200, 300], '종가' : [80, 210, 330]}"
   ]
  },
  {
   "cell_type": "markdown",
   "metadata": {},
   "source": [
    "##### 정답\n",
    "* stock = {\"시가\": [100, 200, 300], \"종가\": [80, 210, 330] }"
   ]
  },
  {
   "cell_type": "code",
   "execution_count": 4,
   "metadata": {},
   "outputs": [],
   "source": [
    "# 184\n",
    "stock = {'10/10': [80, 110, 70, 90], '10/11': [210, 230, 190, 200]}"
   ]
  },
  {
   "cell_type": "markdown",
   "metadata": {},
   "source": [
    "##### 정답\n",
    "* stock = {\"10/10\": [80, 110, 70, 90], \"10/11\": [210, 230, 190, 200] }"
   ]
  },
  {
   "cell_type": "code",
   "execution_count": 5,
   "metadata": {},
   "outputs": [
    {
     "name": "stdout",
     "output_type": "stream",
     "text": [
      "101 호\n",
      "102 호\n",
      "201 호\n",
      "202 호\n",
      "301 호\n",
      "302 호\n"
     ]
    }
   ],
   "source": [
    "# 185\n",
    "apart = [ [101, 102], [201, 202], [301, 302] ]\n",
    "for row in apart:\n",
    "    for a in row:\n",
    "        print(a, '호')"
   ]
  },
  {
   "cell_type": "markdown",
   "metadata": {},
   "source": [
    "##### 정답\n",
    "* for row in apart:\n",
    "-     for col in row:\n",
    "-         print(col, \"호\")"
   ]
  },
  {
   "cell_type": "code",
   "execution_count": 6,
   "metadata": {},
   "outputs": [
    {
     "name": "stdout",
     "output_type": "stream",
     "text": [
      "301\n",
      "302\n",
      "201\n",
      "202\n",
      "101\n",
      "102\n"
     ]
    }
   ],
   "source": [
    "# 186\n",
    "apart = [ [101, 102], [201, 202], [301, 302] ]\n",
    "for a in apart[::-1]:\n",
    "    for b in a:\n",
    "        print(b)"
   ]
  },
  {
   "cell_type": "markdown",
   "metadata": {},
   "source": [
    "##### 정답\n",
    "* for row in apart[::-1]:\n",
    "-     for col in row:\n",
    "-         print(col, \"호\")"
   ]
  },
  {
   "cell_type": "code",
   "execution_count": 7,
   "metadata": {},
   "outputs": [
    {
     "name": "stdout",
     "output_type": "stream",
     "text": [
      "302\n",
      "301\n",
      "202\n",
      "201\n",
      "102\n",
      "101\n"
     ]
    }
   ],
   "source": [
    "# 187\n",
    "apart = [ [101, 102], [201, 202], [301, 302] ]\n",
    "for a in apart[::-1]:\n",
    "    for b in a[::-1]:\n",
    "        print(b)"
   ]
  },
  {
   "cell_type": "markdown",
   "metadata": {},
   "source": [
    "##### 정답\n",
    "* for row in apart[::-1]:\n",
    "-     for col in row[::-1]:\n",
    "-         print(col, \"호\")"
   ]
  },
  {
   "cell_type": "code",
   "execution_count": 8,
   "metadata": {},
   "outputs": [
    {
     "name": "stdout",
     "output_type": "stream",
     "text": [
      "101 호\n",
      "-----\n",
      "102 호\n",
      "-----\n",
      "201 호\n",
      "-----\n",
      "202 호\n",
      "-----\n",
      "301 호\n",
      "-----\n",
      "302 호\n",
      "-----\n"
     ]
    }
   ],
   "source": [
    "# 188\n",
    "apart = [ [101, 102], [201, 202], [301, 302] ]\n",
    "for a in apart:\n",
    "    for b in a:\n",
    "        print(b, '호')\n",
    "        print('-----')"
   ]
  },
  {
   "cell_type": "markdown",
   "metadata": {},
   "source": [
    "##### 정답\n",
    "* for row in apart:\n",
    "-     for col in row:\n",
    "-         print(col, \"호\")\n",
    "-         print(\"-\" * 5)"
   ]
  },
  {
   "cell_type": "code",
   "execution_count": 9,
   "metadata": {},
   "outputs": [
    {
     "name": "stdout",
     "output_type": "stream",
     "text": [
      "101 호\n",
      "102 호\n",
      "----\n",
      "201 호\n",
      "202 호\n",
      "----\n",
      "301 호\n",
      "302 호\n",
      "----\n"
     ]
    }
   ],
   "source": [
    "# 189\n",
    "apart = [ [101, 102], [201, 202], [301, 302] ]\n",
    "for a in apart:\n",
    "    for b in a:\n",
    "        print(b, '호')\n",
    "    print('----')"
   ]
  },
  {
   "cell_type": "markdown",
   "metadata": {},
   "source": [
    "##### 정답\n",
    "* for row in apart:\n",
    "-     for col in row:\n",
    "-         print(col, \"호\")\n",
    "-     print(\"-----\")"
   ]
  },
  {
   "cell_type": "code",
   "execution_count": 10,
   "metadata": {},
   "outputs": [
    {
     "name": "stdout",
     "output_type": "stream",
     "text": [
      "101 호\n",
      "102 호\n",
      "201 호\n",
      "202 호\n",
      "301 호\n",
      "302 호\n",
      "----\n"
     ]
    }
   ],
   "source": [
    "# 190\n",
    "apart = [ [101, 102], [201, 202], [301, 302] ]\n",
    "apart = [ [101, 102], [201, 202], [301, 302] ]\n",
    "for a in apart:\n",
    "    for b in a:\n",
    "        print(b, '호')\n",
    "print('----')"
   ]
  },
  {
   "cell_type": "markdown",
   "metadata": {},
   "source": [
    "##### 정답\n",
    "* for row in apart:\n",
    "-     for col in row:\n",
    "-         print(col, \"호\")\n",
    "- print(\"-\" * 5)"
   ]
  }
 ],
 "metadata": {
  "interpreter": {
   "hash": "f035cfb5c0f4d176dfac7534c1cf94e7b16c78fc3dae1f1e73c4ff9bbcf255ac"
  },
  "kernelspec": {
   "display_name": "Python 3.10.1 64-bit",
   "language": "python",
   "name": "python3"
  },
  "language_info": {
   "codemirror_mode": {
    "name": "ipython",
    "version": 3
   },
   "file_extension": ".py",
   "mimetype": "text/x-python",
   "name": "python",
   "nbconvert_exporter": "python",
   "pygments_lexer": "ipython3",
   "version": "3.10.1"
  },
  "orig_nbformat": 4
 },
 "nbformat": 4,
 "nbformat_minor": 2
}
