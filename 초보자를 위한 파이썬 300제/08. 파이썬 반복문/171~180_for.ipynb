{
 "cells": [
  {
   "cell_type": "markdown",
   "metadata": {},
   "source": [
    "# 08. 파이썬 반복문\n",
    "## 171 ~ 180"
   ]
  },
  {
   "cell_type": "code",
   "execution_count": 1,
   "metadata": {},
   "outputs": [
    {
     "name": "stdout",
     "output_type": "stream",
     "text": [
      "32100\n",
      "32150\n",
      "32000\n",
      "32500\n"
     ]
    }
   ],
   "source": [
    "# 171\n",
    "price_list = [32100, 32150, 32000, 32500]\n",
    "for i in range(4):\n",
    "    print(price_list[i])"
   ]
  },
  {
   "cell_type": "markdown",
   "metadata": {},
   "source": [
    "##### 정답\n",
    "* for i in range(4):\n",
    "-     print(price_list[i])\n",
    "\n",
    "* len() 함수를 사용하면 price_list 가 변해도 코드의 수정이 필요없습니다. 아래가 더 좋은 코드\n",
    "\n",
    "- for i in range(len(price_list)):\n",
    "-     print(price_list[i])"
   ]
  },
  {
   "cell_type": "code",
   "execution_count": 2,
   "metadata": {},
   "outputs": [
    {
     "name": "stdout",
     "output_type": "stream",
     "text": [
      "0 32100\n",
      "1 32150\n",
      "2 32000\n",
      "3 32500\n"
     ]
    }
   ],
   "source": [
    "# 172 @\n",
    "price_list = [32100, 32150, 32000, 32500]\n",
    "for i, j in enumerate(price_list):\n",
    "    print(i, j)"
   ]
  },
  {
   "cell_type": "markdown",
   "metadata": {},
   "source": [
    "##### 정답\n",
    "* price_list = [32100, 32150, 32000, 32500]\n",
    "- for i, data in enumerate(price_list):\n",
    "-     print(i, data)"
   ]
  },
  {
   "cell_type": "code",
   "execution_count": 3,
   "metadata": {},
   "outputs": [
    {
     "name": "stdout",
     "output_type": "stream",
     "text": [
      "3 32100\n",
      "2 32150\n",
      "1 32000\n",
      "0 32500\n"
     ]
    }
   ],
   "source": [
    "# 173\n",
    "price_list = [32100, 32150, 32000, 32500]\n",
    "for i in range(len(price_list)):\n",
    "    print(3 - i, price_list[i])"
   ]
  },
  {
   "cell_type": "markdown",
   "metadata": {},
   "source": [
    "##### 정답\n",
    "* for i in range(len(price_list)):\n",
    "-     print(3 - i, price_list[i])\n",
    "\n",
    "* 3이라는 숫자보다는 일반적인 형태로 아래와 같이 코딩하는게 좋음.\n",
    "- for i in range(len(price_list)):\n",
    "-     print((len(price_list) - 1) - i, price_list[i])"
   ]
  },
  {
   "cell_type": "code",
   "execution_count": 4,
   "metadata": {},
   "outputs": [
    {
     "name": "stdout",
     "output_type": "stream",
     "text": [
      "100 32150\n",
      "110 32000\n",
      "120 32500\n"
     ]
    }
   ],
   "source": [
    "# 174 @\n",
    "price_list = [32100, 32150, 32000, 32500]\n",
    "for i in range(1, 4):\n",
    "    print(90 + 10 * i, price_list[i])"
   ]
  },
  {
   "cell_type": "markdown",
   "metadata": {},
   "source": [
    "##### 정답\n",
    "* for i in range(1, 4):\n",
    "-     print(90 + 10 * i, price_list[i])"
   ]
  },
  {
   "cell_type": "code",
   "execution_count": 5,
   "metadata": {},
   "outputs": [
    {
     "name": "stdout",
     "output_type": "stream",
     "text": [
      "가 나\n",
      "나 다\n",
      "다 라\n"
     ]
    }
   ],
   "source": [
    "# 175\n",
    "my_list = [\"가\", \"나\", \"다\", \"라\"]\n",
    "for i in [0,1,2]:\n",
    "    print(my_list[i], my_list[i+1])"
   ]
  },
  {
   "cell_type": "markdown",
   "metadata": {},
   "source": [
    "##### 정답\n",
    "* 어렵다면 한단계씩 생각. for문을 사용하지 않고 인덱싱만을 사용해서 코드를 작성해보면 인덱스간의 규칙관계. 같은 행에 있는 두 개의 데이터는 인덱스가 +1 차이. 또한 행이 증가할 때마다 인덱스가 +1 씩 증가.\n",
    "- print(my_list[0], my_list[1])\n",
    "- print(my_list[1], my_list[2])\n",
    "- print(my_list[2], my_list[3])\n",
    "\n",
    "\n",
    "* 분석한 규칙을 바탕으로 반복문을 작성. 아래는 첫 열 \"가 나 다\" 를 한 라인에 하나씩 출력하는 코드. for 문이 인덱스를 0, 1, 2 차례로 바인딩하고 인덱싱을 사용해 값을 출력.\n",
    "- for i in [0, 1, 2]:\n",
    "-     print(my_list[i])\n",
    "\n",
    "* 한 행에 두 개의 데이터를 출력하고 싶기 때문에 이전 코드의 print 문에 출력하고 싶은 데이터를 추가. 같은 행의 두 데이터는 인덱스 차이가 +1 이라는 것. i가 0일 때는 0, 1 위치의 값이 출력됩니다. i가 1일 때는 1, 2 위치의 값이 출력. * i가 2일 때는 2, 3 위치의 값이 출력.\n",
    "- for i in [0, 1, 2]:\n",
    "-     print(my_list[i], my_list[i+1])\n",
    "\n",
    "* 위의 코드를 사용해도 원하는 출력값을 얻을 수 있지만 아래는 코드를 보다 일반적인 형태로 변경. len 함수를 사용한 것을 눈여겨 보세요.\n",
    "- for i in range( len(my_list) - 1 ) :\n",
    "-   print(my_list[i], my_list[i+1])\n",
    "\n",
    "* 아래와 같이 작성해도 됩니다. 인덱스를 갖고 노는 겁니다. for문을 단계별로 풀어 써가며 확인해보세요.\n",
    "- for i in range( 1, len(my_list) ) :\n",
    "-   print(my_list[i-1], my_list[i])"
   ]
  },
  {
   "cell_type": "code",
   "execution_count": 6,
   "metadata": {},
   "outputs": [
    {
     "name": "stdout",
     "output_type": "stream",
     "text": [
      "가 나 다\n",
      "나 다 라\n",
      "다 라 마\n"
     ]
    }
   ],
   "source": [
    "# 176\n",
    "my_list = [\"가\", \"나\", \"다\", \"라\", \"마\"]\n",
    "for i in [0, 1, 2]:\n",
    "    print(my_list[i], my_list[i+1], my_list[i+2])"
   ]
  },
  {
   "cell_type": "markdown",
   "metadata": {},
   "source": [
    "##### 정답\n",
    "* 인덱싱을 사용해서 코드를 작성해보면 인덱스간의 규칙관계가 눈에 들어옵니다. 같은 행에 있는 두 개의 데이터는 인덱스가 +1 차이납니다. 또한 행이 증가할 때마다 인덱스가 +1 씩 증가합니다. 045번 문제와 다른점은 한 행에 출력되는 데이터가 3개라는 것입니다.\n",
    "- print(my_list[0], my_list[1], my_list[2])\n",
    "- print(my_list[1], my_list[2], my_list[3])\n",
    "- print(my_list[2], my_list[3], my_list[4])\n",
    "\n",
    "* for문내의 print 문에 출력하고 싶은 값의 위치를 나열합니다. i가 0일 때는 0, 1, 2 위치의 값이 출력됩니다. i가 1일 때는 1, 2, 3 위치의 값이 출력됩니다. * i가 2일 때는 2, 3, 4 위치의 값이 출력됩니다.\n",
    "- for i in [0, 1, 2]:\n",
    "-     print(my_list[i], my_list[i+1], my_list[i+2])\n",
    "\n",
    "* 보다 일반적인 형태로 코드를 변경해 봅시다. 아래 세 개의 코드는 모두 동일한 결과를 출력합니다. 인덱스를 만들어 내는 것과, 인덱싱의 코드가 변하는 것을 눈여겨 보세요.\n",
    "- for i in range( len(my_list) - 2 ):\n",
    "-     print(my_list[i], my_list[i+1], my_list[i+2])\n",
    "\n",
    "* for i in range( 1, len(my_list) - 1 ):\n",
    "-     print(my_list[i-1], my_list[i], my_list[i+1])\n",
    "\n",
    "* for i in range( 2, len(my_list) ):\n",
    "-     print(my_list[i-2], my_list[i-1], my_list[i])"
   ]
  },
  {
   "cell_type": "code",
   "execution_count": 7,
   "metadata": {},
   "outputs": [
    {
     "name": "stdout",
     "output_type": "stream",
     "text": [
      "라 다\n",
      "다 나\n",
      "나 가\n"
     ]
    }
   ],
   "source": [
    "# 177\n",
    "my_list = [\"가\", \"나\", \"다\", \"라\"]\n",
    "for i in [3, 2, 1]:\n",
    "    print(my_list[i], my_list[i-1])"
   ]
  },
  {
   "cell_type": "markdown",
   "metadata": {},
   "source": [
    "##### 정답\n",
    "* 어렵다면 우선은 for문을 사용하지 않고 아래와 같이 인덱싱을 사용해서 코드를 작성합니다. 규칙이 눈에 들어오나요?\n",
    "- print(my_list[3], my_list[2])\n",
    "- print(my_list[2], my_list[1])\n",
    "- print(my_list[1], my_list[0])\n",
    "\n",
    "* 각 라인마다 인덱스가 1씩 감소하고, 같은 라인에서 우측 인덱스는 좌측 보다 1 작다고 분석할 수 있습니다. 이를 코드로 옮기면 아래와 같습니다.\n",
    "- for i in [3, 2, 1] :\n",
    "-     print(my_list[i], my_list[i-1])\n",
    "\n",
    "* 인덱스를 만들어내는 방법에 따라 호출하는 코드가 달라집니다. 우변을 기준으로 인덱스를 만들고 좌변을 접근할 때는 +1 이 필요합니다.\n",
    "- for i in [2, 1, 0] :\n",
    "-     print(my_list[i+1], my_list[i])\n",
    "\n",
    "- for i in [0, 1, 2] :\n",
    "-     print(my_list[3 - i], my_list[2 - i])\n",
    "\n",
    "* 일반적인 형태로 코드를 수정하면 아래와 같습니다.\n",
    "- for i in range(len(my_list) - 1, 0, -1):\n",
    "-     print(my_list[i], my_list[i-1])\n",
    "\n",
    "* 인덱스를 만들어내는 방법에 따라 답은 여러개가 될 수 있습니다.\n",
    "- for i in range(len(my_list) - 1):\n",
    "-     print(my_list[len(my_list) - 1 - i], my_list[len(my_list) - 2 - i])"
   ]
  },
  {
   "cell_type": "code",
   "execution_count": 8,
   "metadata": {},
   "outputs": [
    {
     "name": "stdout",
     "output_type": "stream",
     "text": [
      "100\n",
      "200\n",
      "400\n"
     ]
    }
   ],
   "source": [
    "# 178\n",
    "my_list = [100, 200, 400, 800]\n",
    "for i in [0, 1, 2]:\n",
    "    print(abs(my_list[i+1] - my_list[i]))"
   ]
  },
  {
   "cell_type": "markdown",
   "metadata": {},
   "source": [
    "##### 정답\n",
    "* 한 번에 코드를 작성하기 어렵다면 print 함수와 인덱싱만으로 결과를 표현해봅시다.\n",
    "- print(abs(my_list[1] - my_list[0]))\n",
    "- print(abs(my_list[2] - my_list[1]))\n",
    "- print(abs(my_list[3] - my_list[2]))\n",
    "\n",
    "* 인덱스의 관계를 파악했다면 기준으로 사용할 인덱스를 결정합니다. 이번에는 우측에 있는 인덱스를 활용해서 for문을 작성해 보겠습니다.\n",
    "- for i in [0, 1, 2]:\n",
    "-     print(abs(my_list[i+1] - my_list[i]))\n",
    "\n",
    "* 다음으로 코드를 다듬어 줍니다.\n",
    "- for i in range(len(my_list) - 1):\n",
    "-     print(abs(my_list[i+1] - my_list[i]))"
   ]
  },
  {
   "cell_type": "code",
   "execution_count": 9,
   "metadata": {},
   "outputs": [
    {
     "name": "stdout",
     "output_type": "stream",
     "text": [
      "233.33333333333334\n",
      "466.6666666666667\n",
      "733.3333333333334\n",
      "1033.3333333333333\n"
     ]
    }
   ],
   "source": [
    "# 179 @\n",
    "my_list = [100, 200, 400, 800, 1000, 1300]\n",
    "for i in [1, 2, 3, 4]:\n",
    "    print(abs(my_list[i-1] + my_list[i] + my_list[i+1]) / 3)\n"
   ]
  },
  {
   "cell_type": "markdown",
   "metadata": {},
   "source": [
    "##### 정답\n",
    "* print 함수와 인덱싱만으로 결과를 표현해봅니다.\n",
    "- print(abs(my_list[0] + my_list[1] + my_list[2])/3)\n",
    "- print(abs(my_list[1] + my_list[2] + my_list[3])/3)\n",
    "- print(abs(my_list[2] + my_list[3] + my_list[4])/3)\n",
    "- print(abs(my_list[3] + my_list[4] + my_list[5])/3)\n",
    "\n",
    "* 인덱스 간의 관계를 파악했다면 기준으로 사용할 인덱스를 결정합니다. 이번에는 가운데에 있는 인덱스를 활용해서  for문을 작성해 보겠습니다.\n",
    "- for i in [1, 2, 3, 4]:\n",
    "-     print(abs(my_list[i-1] + my_list[i] + my_list[i+1]) / 3)\n",
    "\n",
    "* 다음으로 코드를 다듬어 줍니다.\n",
    "- for i in range(1, len(my_list) - 1):\n",
    "-    print(abs(my_list[i-1] + my_list[i] + my_list[i+1]) / 3)"
   ]
  },
  {
   "cell_type": "code",
   "execution_count": 10,
   "metadata": {},
   "outputs": [
    {
     "name": "stdout",
     "output_type": "stream",
     "text": [
      "[50]\n",
      "[50, 100]\n",
      "[50, 100, 30]\n",
      "[50, 100, 30, 80]\n",
      "[50, 100, 30, 80, 0]\n"
     ]
    }
   ],
   "source": [
    "# 180 @\n",
    "low_prices  = [100, 200, 400, 800, 1000]\n",
    "high_prices = [150, 300, 430, 880, 1000]\n",
    "volatility = []\n",
    "for i in range(len(low_prices)):\n",
    "    volatility.append(high_prices[i] - low_prices[i])\n",
    "    print(volatility)"
   ]
  },
  {
   "cell_type": "markdown",
   "metadata": {},
   "source": [
    "##### 정답\n",
    "* volatility = []\n",
    "- for i in range(len(low_prices)) :\n",
    "-     volatility.append(high_prices[i] - low_prices[i])"
   ]
  }
 ],
 "metadata": {
  "interpreter": {
   "hash": "f035cfb5c0f4d176dfac7534c1cf94e7b16c78fc3dae1f1e73c4ff9bbcf255ac"
  },
  "kernelspec": {
   "display_name": "Python 3.10.1 64-bit",
   "language": "python",
   "name": "python3"
  },
  "language_info": {
   "codemirror_mode": {
    "name": "ipython",
    "version": 3
   },
   "file_extension": ".py",
   "mimetype": "text/x-python",
   "name": "python",
   "nbconvert_exporter": "python",
   "pygments_lexer": "ipython3",
   "version": "3.10.1"
  },
  "orig_nbformat": 4
 },
 "nbformat": 4,
 "nbformat_minor": 2
}
