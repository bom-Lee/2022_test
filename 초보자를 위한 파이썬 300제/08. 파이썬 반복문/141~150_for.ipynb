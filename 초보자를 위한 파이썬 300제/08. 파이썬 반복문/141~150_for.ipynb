{
 "cells": [
  {
   "cell_type": "markdown",
   "metadata": {},
   "source": [
    "# 08. 파이썬 반복문\n",
    "## 141 ~ 150"
   ]
  },
  {
   "cell_type": "code",
   "execution_count": 1,
   "metadata": {},
   "outputs": [
    {
     "name": "stdout",
     "output_type": "stream",
     "text": [
      "110\n",
      "210\n",
      "310\n"
     ]
    }
   ],
   "source": [
    "# 141\n",
    "리스트 = [100, 200, 300]\n",
    "for a in 리스트:\n",
    "    print(a + 10)"
   ]
  },
  {
   "cell_type": "markdown",
   "metadata": {},
   "source": [
    "##### 정답\n",
    "* 우선, for문을 사용하지 않고 모든 값에 10을 더하는 코드를 작성\n",
    "- 변수 = 100\n",
    "- print(변수 + 10)\n",
    "- 변수 = 200\n",
    "- print(변수 + 10)\n",
    "- 변수 = 300\n",
    "- print(변수 + 10)\n",
    "\n",
    "* 변하는 값은 for문의 자료구조 자리에, 변하지 않는 코드는 들여쓰기 후에 작성\n",
    "- 리스트 = [100, 200, 300]\n",
    "- for 변수 in 리스트:\n",
    "-   print(변수 + 10)\n",
    "\n",
    "* 파이썬 인터프리터가 코드를 실행하는 순서를 익혀서, 한 번에 for문으로 작성할 수 있어야 함.\n",
    "- (100 바인딩 - 들여쓰기 코드 실행)\n",
    "- (200 바인딩 - 들여쓰기 코드 실행)\n",
    "- (300 바인딩 - 들여쓰기 코드 실행)"
   ]
  },
  {
   "cell_type": "code",
   "execution_count": 2,
   "metadata": {},
   "outputs": [
    {
     "name": "stdout",
     "output_type": "stream",
     "text": [
      "오늘의 메뉴:김밥\n",
      "오늘의 메뉴:라면\n",
      "오늘의 메뉴:튀김\n"
     ]
    }
   ],
   "source": [
    "# 142\n",
    "리스트 = ['김밥', '라면', '튀김']\n",
    "for a in 리스트:\n",
    "    print('오늘의 메뉴:'+ a)"
   ]
  },
  {
   "cell_type": "markdown",
   "metadata": {},
   "source": [
    "##### 정답\n",
    "* for문을 사용하지 않고 문자열을 출력하는 코드를 작성. 011번 문제와는 리스트안의 데이터 타입이 문자열이라는 것이 차이점. 문자열의 덧셈은 두 문자열을 이어붙임.\n",
    "- 메뉴 = \"김밥\"\n",
    "- print(\"오늘의 메뉴: \" + 메뉴)\n",
    "- 메뉴 = \"라면\"\n",
    "- print(\"오늘의 메뉴: \" + 메뉴)\n",
    "- 메뉴 = \"튀김\"\n",
    "- print(\"오늘의 메뉴: \" + 메뉴)\n",
    "\n",
    "* 변하는 값은 for문의 자료구조 자리에, 변하지 않는 코드는 들여쓰기 후에 작성\n",
    "- 리스트 = [\"김밥\", \"라면\", \"튀김\"]\n",
    "- for 메뉴 in 리스트:\n",
    "-   print(\"오늘의 메뉴: \" + 메뉴)\n",
    "\n",
    "* 문자열 덧셈 대신 print() 함수의 기능을 사용해서 다음과 같이 코드를 작성. print() 함수는 입력한 값을 한칸의 공백과 함께 이어붙여 출력\n",
    "- 리스트 = [\"김밥\", \"라면\", \"튀김\"]\n",
    "- for 메뉴 in 리스트:\n",
    "-   print(\"오늘의 메뉴:\", 메뉴)"
   ]
  },
  {
   "cell_type": "code",
   "execution_count": 3,
   "metadata": {},
   "outputs": [
    {
     "name": "stdout",
     "output_type": "stream",
     "text": [
      "6\n",
      "4\n",
      "4\n"
     ]
    }
   ],
   "source": [
    "# 143\n",
    "리스트 = [\"SK하이닉스\", \"삼성전자\", \"LG전자\"]\n",
    "for a in 리스트:\n",
    "    b = len(a)\n",
    "    print(b)"
   ]
  },
  {
   "cell_type": "markdown",
   "metadata": {},
   "source": [
    "##### 정답\n",
    "* 문자열의 길이를 구하는 함수 len()을 사용\n",
    "- 리스트 = [\"SK하이닉스\", \"삼성전자\", \"LG전자\"]\n",
    "- for 종목명 in 리스트:\n",
    "-   길이 = len(종목명)\n",
    "-   print(길이)\n",
    "\n",
    "* 간단하기 때문에 한줄로 표현\n",
    "- 리스트 = [\"SK하이닉스\", \"삼성전자\", \"LG전자\"]\n",
    "- for 종목명 in 리스트:\n",
    "-   print(len(종목명))\n",
    "\n",
    "* 한 번에 코드를 작성하기 어렵다면 for문을 사용하지 않고 풀어서 코드를 작성해보세요."
   ]
  },
  {
   "cell_type": "code",
   "execution_count": 4,
   "metadata": {},
   "outputs": [
    {
     "name": "stdout",
     "output_type": "stream",
     "text": [
      "dog 3\n",
      "cat 3\n",
      "parrot 6\n"
     ]
    }
   ],
   "source": [
    "# 144\n",
    "리스트 = ['dog', 'cat', 'parrot']\n",
    "for a in 리스트:\n",
    "    print(a, len(a))"
   ]
  },
  {
   "cell_type": "markdown",
   "metadata": {},
   "source": [
    "##### 정답\n",
    "* 리스트에는 동물이름이 문자열로 저장\n",
    "- 리스트 = ['dog', 'cat', 'parrot']\n",
    "- for 이름 in 리스트:\n",
    "-   print(이름, len(이름))"
   ]
  },
  {
   "cell_type": "code",
   "execution_count": 5,
   "metadata": {},
   "outputs": [
    {
     "name": "stdout",
     "output_type": "stream",
     "text": [
      "d\n",
      "c\n",
      "p\n"
     ]
    }
   ],
   "source": [
    "# 145\n",
    "리스트 = ['dog', 'cat', 'parrot']\n",
    "for a in 리스트:\n",
    "    print(a[0])"
   ]
  },
  {
   "cell_type": "markdown",
   "metadata": {},
   "source": [
    "##### 정답\n",
    "* 어렵게 느껴진다면 for문을 사용하지 않고 코드를 작성해봅시다. 바인딩된 문자열의 인덱싱을 사용해서 첫 글자를 화면에 출력\n",
    "- 이름 = \"dog\"\n",
    "- print(이름[0])\n",
    "- 변수 = \"cat\"\n",
    "- print(이름[0])\n",
    "- 변수 = \"parrot\"\n",
    "- print(이름[0])\n",
    "\n",
    "* 변하는 값은 for문의 자료구조 자리에, 변하지 않는 코드는 들여쓰기 후에 작성\n",
    "- 리스트 = ['dog', 'cat', 'parrot']\n",
    "- for 이름 in 리스트:\n",
    "-   print(이름[0])"
   ]
  },
  {
   "cell_type": "code",
   "execution_count": 6,
   "metadata": {},
   "outputs": [
    {
     "name": "stdout",
     "output_type": "stream",
     "text": [
      "3 × 1\n",
      "3 × 2\n",
      "3 × 3\n"
     ]
    }
   ],
   "source": [
    "# 146\n",
    "리스트 = [1, 2, 3]\n",
    "for  a in 리스트:\n",
    "    print('3 × ' + str(a))"
   ]
  },
  {
   "cell_type": "markdown",
   "metadata": {},
   "source": [
    "##### 정답\n",
    "* 012 문제를 풀었다면 충분히 응용할 수 있어야 함. \"3 x \" 문자열과 숫자를 이어붙여 출력하면 됨. 다만 변수에 바인딩된 값이 숫자이기 때문에 문자로 변환 후에 문자열 연산을 사용할 수 있음.\n",
    "- 리스트 = [1, 2, 3]\n",
    "- for 변수 in 리스트:\n",
    "-   print(\"3 x \" + str(변수))\n",
    "\n",
    "* 혹은 print() 함수가 제공하는 기능을 사용할 수 있음.\n",
    "- 리스트 = [1, 2, 3]\n",
    "- for 변수 in 리스트:\n",
    "-   print(\"3 x\", 변수)"
   ]
  },
  {
   "cell_type": "code",
   "execution_count": 7,
   "metadata": {},
   "outputs": [
    {
     "name": "stdout",
     "output_type": "stream",
     "text": [
      "3 × 1 = 3\n",
      "3 × 2 = 6\n",
      "3 × 3 = 9\n"
     ]
    }
   ],
   "source": [
    "# 147\n",
    "리스트 = [1, 2, 3]\n",
    "for a in 리스트:\n",
    "    print('3 × ' + str(a), '=', 3*a)"
   ]
  },
  {
   "cell_type": "markdown",
   "metadata": {},
   "source": [
    "##### 정답\n",
    "* 어려워 보인다면, for문을 사용하지 않고 풀어서 코드를 작성. 핵심은 print() 함수에서 3 * 변수 부분. 변수를 활용해서 원하는 값을 만들어 냄.\n",
    "- 변수 = 1\n",
    "- print(\"3 x \", 변수, \"=\", 3 * 변수)\n",
    "- 변수 = 2\n",
    "- print(\"3 x \", 변수, \"=\", 3 * 변수)\n",
    "- 변수 = 2\n",
    "- print(\"3 x \", 변수, \"=\", 3 * 변수)\n",
    "\n",
    "* 값만 변하고 있기 때문에 쉽게 for문으로 작성\n",
    "- 리스트 = [1, 2, 3]\n",
    "- for 변수 in 리스트:\n",
    "-   print(\"3 x \", 변수, \"=\", 3 * 변수)\n",
    "\n",
    "* 1장에서 배운 문자열 함수를 활용하면 코드가 더욱 읽기 쉬워짐\n",
    "- 리스트 = [1, 2, 3]\n",
    "- for 변수 in 리스트:\n",
    "-   print(\"3 x {} = {}\".format(변수, 3 * 변수))"
   ]
  },
  {
   "cell_type": "code",
   "execution_count": 8,
   "metadata": {},
   "outputs": [
    {
     "name": "stdout",
     "output_type": "stream",
     "text": [
      "나\n",
      "다\n",
      "라\n"
     ]
    }
   ],
   "source": [
    "# 148\n",
    "리스트 = [\"가\", \"나\", \"다\", \"라\"]\n",
    "a = 리스트[1:]\n",
    "for b in a:\n",
    "    print(b)"
   ]
  },
  {
   "cell_type": "markdown",
   "metadata": {},
   "source": [
    "##### 정답\n",
    "* 리스트의 슬라이싱을 사용해서 일부 데이터를 \"나다라\" 변수에 바인딩. \"나다라\"에 바인딩 된 리스트로 for문을 사용하면 원하는 결과를 얻을 수 있음. [1:] 코드가 어색하다면 2장을 복습.\n",
    "- 리스트 = [\"가\", \"나\", \"다\", \"라\"]\n",
    "- 나다라 = 리스트[1:]\n",
    "- for 변수 in 나다라:\n",
    "-   print(변수)\n",
    "\n",
    "* 리스트를 슬라이싱한 결과를 \"리스트\" 변수에 업데이트 할 수도 있음. 전체 값을 출력하는 코드에서 for문의 코드 변경없이 추가 코드만 한줄 작성\n",
    "- 리스트 = [\"가\", \"나\", \"다\", \"라\"]\n",
    "- 리스트 = 리스트[1:]\n",
    "- for 변수 in 리스트:\n",
    "-   print(변수)\n",
    "\n",
    "* 간단하니 for문 자료구조 자리에 슬라이싱 코드를 한번에 작성할 수도 있음.\n",
    "- 리스트 = [\"가\", \"나\", \"다\", \"라\"]\n",
    "- for 변수 in 리스트[1:]:\n",
    "-   print(변수)\n",
    "\n",
    "* 세 개의 코드는 모두 동일한 동작을 하는데, 되도록이면 간단하게 쓰는게 좋겠죠? 세 번째 방법을 눈에 익혀 두세요."
   ]
  },
  {
   "cell_type": "code",
   "execution_count": 9,
   "metadata": {},
   "outputs": [
    {
     "name": "stdout",
     "output_type": "stream",
     "text": [
      "가\n",
      "다\n"
     ]
    }
   ],
   "source": [
    "# 149\n",
    "리스트 = [\"가\", \"나\", \"다\", \"라\"]\n",
    "for a in 리스트[::2]:\n",
    "    print(a)"
   ]
  },
  {
   "cell_type": "markdown",
   "metadata": {},
   "source": [
    "##### 정답\n",
    "* 리스트 슬라이싱에서 [시작:끝:증감폭] 세번째 값은 값을 가져오는 단위를 의미. 증감폭을 2로 설정해서 \"가\"와 \"다\" 값만 슬라이싱.\n",
    "- 리스트 = [\"가\", \"나\", \"다\", \"라\"]\n",
    "- for 변수 in 리스트[: :2]:\n",
    "-   print(변수)"
   ]
  },
  {
   "cell_type": "code",
   "execution_count": 10,
   "metadata": {},
   "outputs": [
    {
     "name": "stdout",
     "output_type": "stream",
     "text": [
      "라\n",
      "다\n",
      "나\n",
      "가\n"
     ]
    }
   ],
   "source": [
    "# 150\n",
    "리스트 = [\"가\", \"나\", \"다\", \"라\"]\n",
    "for a in 리스트[::-1]:\n",
    "    print(a)"
   ]
  },
  {
   "cell_type": "markdown",
   "metadata": {},
   "source": []
  },
  {
   "cell_type": "markdown",
   "metadata": {},
   "source": [
    "##### 정답\n",
    "* 증감폭을 음수로 설정하면 끝에서 앞방향으로 값을 슬라이싱.\n",
    "- 리스트 = [\"가\", \"나\", \"다\", \"라\"]\n",
    "- for 변수 in 리스트[: :-1]:\n",
    "-   print(변수)"
   ]
  }
 ],
 "metadata": {
  "interpreter": {
   "hash": "f035cfb5c0f4d176dfac7534c1cf94e7b16c78fc3dae1f1e73c4ff9bbcf255ac"
  },
  "kernelspec": {
   "display_name": "Python 3.10.1 64-bit",
   "language": "python",
   "name": "python3"
  },
  "language_info": {
   "codemirror_mode": {
    "name": "ipython",
    "version": 3
   },
   "file_extension": ".py",
   "mimetype": "text/x-python",
   "name": "python",
   "nbconvert_exporter": "python",
   "pygments_lexer": "ipython3",
   "version": "3.10.1"
  },
  "orig_nbformat": 4
 },
 "nbformat": 4,
 "nbformat_minor": 2
}
