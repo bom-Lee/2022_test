{
 "cells": [
  {
   "cell_type": "markdown",
   "metadata": {},
   "source": [
    "# 08. 파이썬 반복문\n",
    "## 131 ~ 140"
   ]
  },
  {
   "cell_type": "code",
   "execution_count": 1,
   "metadata": {},
   "outputs": [
    {
     "name": "stdout",
     "output_type": "stream",
     "text": [
      "사과\n",
      "귤\n",
      "수박\n"
     ]
    }
   ],
   "source": [
    "# 131\n",
    "과일 = [\"사과\", \"귤\", \"수박\"]\n",
    "for 변수 in 과일:\n",
    "    print(변수)\n",
    "# 사과\n",
    "# 귤\n",
    "# 수박"
   ]
  },
  {
   "cell_type": "markdown",
   "metadata": {},
   "source": [
    "##### 정답\n",
    "* 사과\n",
    "- 귤\n",
    "- 수박"
   ]
  },
  {
   "cell_type": "code",
   "execution_count": 2,
   "metadata": {},
   "outputs": [
    {
     "name": "stdout",
     "output_type": "stream",
     "text": [
      "#####\n",
      "#####\n",
      "#####\n"
     ]
    }
   ],
   "source": [
    "# 132\n",
    "과일 = [\"사과\", \"귤\", \"수박\"]\n",
    "for 변수 in 과일:\n",
    "  print(\"#####\")"
   ]
  },
  {
   "cell_type": "markdown",
   "metadata": {},
   "source": [
    "##### 정답\n",
    "* 기초문법 배우기-1에서 for문의 핵심은 \"들여쓰기된 코드가 자료구조에 저장된 데이터 개수만큼 반복된다\"라고 설명.\n",
    "- 과일 = [\"사과\", \"귤\", \"수박\"] 에는 세 개의 데이터가 저장돼 있으므로 들여쓰기된 print(\"####\")코드가 세 번 실행.\n",
    "- \\#####\n",
    "- \\#####\n",
    "- \\#####"
   ]
  },
  {
   "cell_type": "code",
   "execution_count": 3,
   "metadata": {},
   "outputs": [
    {
     "name": "stdout",
     "output_type": "stream",
     "text": [
      "A\n",
      "B\n",
      "C\n"
     ]
    }
   ],
   "source": [
    "# 133\n",
    "# for 변수 in [\"A\", \"B\", \"C\"]:\n",
    "#   print(변수)\n",
    "\n",
    "변수 = 'A'\n",
    "print(변수)\n",
    "변수 = 'B'\n",
    "print(변수)\n",
    "변수 = 'C'\n",
    "print(변수)"
   ]
  },
  {
   "cell_type": "markdown",
   "metadata": {},
   "source": [
    "##### 정답\n",
    "* 파이썬 인터프리터가 어떤 순서로 코드를 실행하는지를 떠올려 보세요. \"변수 바인딩(라인 1) -> 변수 출력 (라인 2)\" 과정을 자료구조 데이터 개수 만큼 반복.\n",
    "* 변수 = \"A\"\n",
    "- print(변수)\n",
    "- -변수 = \"B\"\n",
    "- print(변수)\n",
    "- 변수 = \"C\"\n",
    "- print(변수)"
   ]
  },
  {
   "cell_type": "code",
   "execution_count": 4,
   "metadata": {},
   "outputs": [
    {
     "name": "stdout",
     "output_type": "stream",
     "text": [
      "출력: A\n",
      "출력: B\n",
      "출력: C\n"
     ]
    }
   ],
   "source": [
    "# 134\n",
    "# for 변수 in [\"A\", \"B\", \"C\"]:\n",
    "#   print(\"출력:\", 변수)\n",
    "\n",
    "변수 = 'A'\n",
    "print(\"출력:\", 변수)\n",
    "변수 = 'B'\n",
    "print(\"출력:\", 변수)\n",
    "변수 = 'C'\n",
    "print(\"출력:\", 변수)"
   ]
  },
  {
   "cell_type": "markdown",
   "metadata": {},
   "source": [
    "##### 정답\n",
    "* 변수 = \"A\"\n",
    "* print(\"출력:\", 변수)\n",
    "* 변수 = \"B\"\n",
    "* print(\"출력:\", 변수)\n",
    "* 변수 = \"C\"\n",
    "* print(\"출력:\", 변수)\n",
    " \n",
    "- print(\"출력:\", \"A\")\n",
    "- print(\"출력:\", \"B\")\n",
    "- print(\"출력:\", \"C\")"
   ]
  },
  {
   "cell_type": "code",
   "execution_count": 5,
   "metadata": {},
   "outputs": [
    {
     "name": "stdout",
     "output_type": "stream",
     "text": [
      "변환: a\n",
      "변환: b\n",
      "변환: c\n"
     ]
    }
   ],
   "source": [
    "# 135\n",
    "# for 변수 in [\"A\", \"B\", \"C\"]:\n",
    "#   b = 변수.lower()\n",
    "#   print(\"변환:\", b)\n",
    "\n",
    "변수 = 'A'\n",
    "b = 변수.lower()\n",
    "print('변환:', b)\n",
    "변수 = 'B'\n",
    "b = 변수.lower()\n",
    "print('변환:', b)\n",
    "변수 = 'C'\n",
    "b = 변수.lower()\n",
    "print('변환:', b)"
   ]
  },
  {
   "cell_type": "markdown",
   "metadata": {},
   "source": [
    "##### 정답\n",
    "* 들여쓰기된 코드의 내용은 중요하지 않음. 파이썬 인터프리터가 코드를 해석하는 순서를 익히는 것이 중요. 라인1의 for문이 실행되면 변수에 첫 번재 데이터를 바인딩. 그리고 들여쓰기된 라인 2의 코드를 실행.\n",
    "- 변수 = \"A\"\n",
    "- b = 변수.lower()\n",
    "- print(\"변환:\", b)\n",
    "\n",
    "* 들여쓰기된 코드의 실행이 끝나면 라인 1로 이동해서 변수에 두 번재 데이터를 바인딩. 그리고 들여쓰기된 코드를 실행.\n",
    "- 변수 = \"B\"\n",
    "- b = 변수.lower()\n",
    "- print(\"변환:\", b)\n",
    "\n",
    "* 다음으로 변수 \"C\"를 바인딩하고 출력하면 되겠죠? for문을 풀어쓴 전체 코드는 다음과 같음.\n",
    "- 변수 = \"A\"\n",
    "- b = 변수.lower()\n",
    "- print(\"변환:\", b)\n",
    "- 변수 = \"B\"\n",
    "- b = 변수.lower()\n",
    "- print(\"변환:\", b)\n",
    "- 변수 = \"C\"\n",
    "- b = 변수.lower()\n",
    "- print(\"변환:\", b)"
   ]
  },
  {
   "cell_type": "code",
   "execution_count": 6,
   "metadata": {},
   "outputs": [
    {
     "name": "stdout",
     "output_type": "stream",
     "text": [
      "10\n",
      "20\n",
      "30\n"
     ]
    }
   ],
   "source": [
    "# 136\n",
    "# 변수 = 10\n",
    "# print(변수)\n",
    "# 변수 = 20\n",
    "# print(변수)\n",
    "# 변수 = 30\n",
    "# print(변수)\n",
    "\n",
    "for 변수 in [10, 20, 30]:\n",
    "    print(변수)"
   ]
  },
  {
   "cell_type": "markdown",
   "metadata": {},
   "source": [
    "##### 정답\n",
    "* for문은 동일한 루틴을 반복해서 실행하는 문법. 우선 문제에서 변하지 않고 반복되는 코드를 찾아보자. print(변수) 부분이죠? 변하는 부분은 변수에 값을 대입하는 코드.\n",
    "- print(변수)\n",
    "\n",
    "* 반복되는 코드는 들여쓰기로 표현하고 for문에서 변하는 부분을 기술\n",
    "- for 변수 in [10, 20, 30]:\n",
    "-  print(변수)\n",
    "\n",
    "* 다음과 같이 리스트 변수에 데이터를 바인딩하고, 변수를 for문의 자료구조 자리에 넣어줘도 됨.\n",
    "- 리스트 = [10, 20, 30]\n",
    "- for 변수 in 리스트:\n",
    "-   print(변수)"
   ]
  },
  {
   "cell_type": "code",
   "execution_count": 7,
   "metadata": {},
   "outputs": [
    {
     "name": "stdout",
     "output_type": "stream",
     "text": [
      "10\n",
      "20\n",
      "30\n"
     ]
    }
   ],
   "source": [
    "# 137\n",
    "# print(10)\n",
    "# print(20)\n",
    "# print(30)\n",
    "\n",
    "a = 10\n",
    "print(a)\n",
    "a = 20\n",
    "print(a)\n",
    "a= 30\n",
    "print(a)"
   ]
  },
  {
   "cell_type": "markdown",
   "metadata": {},
   "source": [
    "##### 정답\n",
    "* 값을 바인딩하는 코드가 생략된 코드. 그렇다해도 for문으로 변경할 수 있어야함. 변하는 부분은 값 10, 20, 30. 변하지 않는 부분은 print() 코드.\n",
    "- 변수 = 10\n",
    "- print(변수)\n",
    "- 변수 = 20\n",
    "- print(변수)\n",
    "- 변수 = 30\n",
    "- print(변수)\n",
    "\n",
    "* 변하는 부분은 for문과 함께 리스트로 처리하고 변하지 않는 코드는 들여쓰기와 함께 적어줌.\n",
    "- for 변수 in [10, 20, 30]:\n",
    "-   print(변수)"
   ]
  },
  {
   "cell_type": "code",
   "execution_count": 8,
   "metadata": {},
   "outputs": [
    {
     "name": "stdout",
     "output_type": "stream",
     "text": [
      "10\n",
      "-------\n",
      "20\n",
      "-------\n",
      "30\n",
      "-------\n",
      "10\n",
      "-------\n",
      "20\n",
      "-------\n",
      "30\n",
      "-------\n"
     ]
    }
   ],
   "source": [
    "# 138 @\n",
    "# print(10)\n",
    "# print(\"-------\")\n",
    "# print(20)\n",
    "# print(\"-------\")\n",
    "# print(30)\n",
    "# print(\"-------\")\n",
    "\n",
    "변수 = 10\n",
    "print(변수)\n",
    "print(\"-------\")\n",
    "변수 = 20\n",
    "print(변수)\n",
    "print(\"-------\")\n",
    "변수 = 30\n",
    "print(변수)\n",
    "print(\"-------\")\n",
    "\n",
    "\n",
    "for 변수 in [10, 20, 30]:\n",
    "    print(변수)\n",
    "    print(\"-------\")"
   ]
  },
  {
   "cell_type": "markdown",
   "metadata": {},
   "source": [
    "##### 정답\n",
    "* 변하는 값을 변수에 바인딩하고, 변수를 사용해서 나머지 코드를 작성\n",
    "- 변수 = 10\n",
    "- print(변수)\n",
    "- print(\"-------\")\n",
    "\n",
    "- 변수 = 20\n",
    "- print(변수)\n",
    "- print(\"-------\")\n",
    "\n",
    "- 변수 = 30\n",
    "- print(변수)\n",
    "- print(\"-------\")\n",
    "\n",
    "* 변하는 부분은 for문과 함께 리스트로 처리하고 변하지 않는 코드는 들여쓰기와 함께 적어줌.\n",
    "- for 변수 in [10, 20, 30]:\n",
    "-   print(변수)\n",
    "-   print(\"-------\")"
   ]
  },
  {
   "cell_type": "code",
   "execution_count": 9,
   "metadata": {},
   "outputs": [
    {
     "name": "stdout",
     "output_type": "stream",
     "text": [
      "++++\n",
      "10\n",
      "20\n",
      "30\n"
     ]
    }
   ],
   "source": [
    "# 139\n",
    "# print(\"++++\")\n",
    "# print(10)\n",
    "# print(20)\n",
    "# print(30)\n",
    "\n",
    "print(\"++++\")\n",
    "for a in [10, 20,30]:\n",
    "    print(a)"
   ]
  },
  {
   "cell_type": "markdown",
   "metadata": {},
   "source": [
    "##### 정답\n",
    "* print(\"++++\") 코드가 함정입니다. 파이썬 for문은 반복되는 코드에만 사용\n",
    "\n",
    "- print(\"++++\")\n",
    "- for 변수 in [10, 20, 30]:\n",
    "-   print(변수)"
   ]
  },
  {
   "cell_type": "code",
   "execution_count": 10,
   "metadata": {},
   "outputs": [
    {
     "name": "stdout",
     "output_type": "stream",
     "text": [
      "-------\n",
      "-------\n",
      "-------\n",
      "-------\n"
     ]
    }
   ],
   "source": [
    "# 140 @ \n",
    "# print(\"-------\")\n",
    "# print(\"-------\")\n",
    "# print(\"-------\")\n",
    "# print(\"-------\")\n",
    "\n",
    "for 변수 in [1, 2, 3, 4]:\n",
    "  print(\"-------\")"
   ]
  },
  {
   "cell_type": "markdown",
   "metadata": {},
   "source": [
    "##### 정답\n",
    "* 네 번 반복 출력하는 코드를 작성하는 문제.\n",
    "- 변하는 값 : 없음\n",
    "- 변하지 않는 코드 : print(\"-------\")\n",
    "- 지금까지 정리한 내용을 코드로 작성하면 아래와 같습니다. \"????\" 부분을 어떻게 채워야 할까요?\n",
    "\n",
    "- for 변수 in ?????:\n",
    "\n",
    "-   print(\"-------\")\n",
    "\n",
    "* 파이썬 for문은 들여쓰기된 코드가 자료구조의 데이터 개수만큼 반복된다는 사실이 중요.\n",
    "* 문제에서 원하는 것은 들여쓰기된 코드가 4번 실행되는 것. 그렇다면 for문의 자료구조자리에 데이터가 4개저장된 리스트가 들어가면 어떻게 될까요?\n",
    "\n",
    "- for 변수 in [\"가\", \"나\", \"다\", \"라\"]:\n",
    "-   print(\"-------\")\n",
    "\n",
    "* 변수에 값이 바인딩되지만 사용되지 않을뿐 실행해보면 들여쓰기된 코드가 4번 실행. 위 예제에서는 자료구조에 \"가나다라\" 문자열 값을 넣었지만 아래와 같이 1,2,3,4 숫자 값을 넣어도 동일한 동작. 자료구조에 네 개의 데이터가 들어있으면 됨.\n",
    "- for 변수 in [1, 2, 3, 4]:\n",
    "-   print(\"-------\")\n",
    "\n"
   ]
  }
 ],
 "metadata": {
  "interpreter": {
   "hash": "f035cfb5c0f4d176dfac7534c1cf94e7b16c78fc3dae1f1e73c4ff9bbcf255ac"
  },
  "kernelspec": {
   "display_name": "Python 3.10.1 64-bit",
   "language": "python",
   "name": "python3"
  },
  "language_info": {
   "codemirror_mode": {
    "name": "ipython",
    "version": 3
   },
   "file_extension": ".py",
   "mimetype": "text/x-python",
   "name": "python",
   "nbconvert_exporter": "python",
   "pygments_lexer": "ipython3",
   "version": "3.10.1"
  },
  "orig_nbformat": 4
 },
 "nbformat": 4,
 "nbformat_minor": 2
}
