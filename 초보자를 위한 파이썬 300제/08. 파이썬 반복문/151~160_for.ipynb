{
 "cells": [
  {
   "cell_type": "markdown",
   "metadata": {},
   "source": [
    "# 08. 파이썬 반복문\n",
    "## 151 ~ 160"
   ]
  },
  {
   "cell_type": "code",
   "execution_count": 1,
   "metadata": {},
   "outputs": [
    {
     "name": "stdout",
     "output_type": "stream",
     "text": [
      "-20\n",
      "-3\n"
     ]
    }
   ],
   "source": [
    "# 151\n",
    "리스트 = [3, -20, -3, 44]\n",
    "for a in 리스트:\n",
    "    if a < 0:\n",
    "        print(a)"
   ]
  },
  {
   "cell_type": "markdown",
   "metadata": {},
   "source": [
    "##### 정답\n",
    "* 리스트에 저장된 모든 값에 접근해서 음수 여부를 판단해야 함. 라인 3을 제외하면 리스트에 저장된 모든 값을 출력하는 코드. 라인 3의 분기문의 사용으로 모든 값을 출력하는 것이 아니라 조건이 참인 경우에만 if문의 들여쓰기된 코드가 실행.\n",
    "- 1: 리스트 = [3, -20, -3, 44]\n",
    "- 2: for 변수 in 리스트:\n",
    "- 3:   if 변수 < 0:\n",
    "- 4:     print(변수)\n",
    "\n",
    "* 인터프리터가 실행하는 순서를 정리해보면 다음과 같음.\n",
    "- (변수 3 바인딩 - 분기문 비교:거짓)\n",
    "- (변수 -20 바인딩 - 분기문 비교:참 - 코드 실행)\n",
    "- (변수 -3 바인딩 - 분기문 비교:참 - 코드 실행)\n",
    "- (변수 44 바인딩 - 분기문 비교:거짓)"
   ]
  },
  {
   "cell_type": "code",
   "execution_count": 2,
   "metadata": {},
   "outputs": [
    {
     "name": "stdout",
     "output_type": "stream",
     "text": [
      "3\n"
     ]
    }
   ],
   "source": [
    "# 152\n",
    "리스트 = [3, 100, 23, 44]\n",
    "for a in  리스트:\n",
    "    if a % 3 == 0:\n",
    "        print(a)"
   ]
  },
  {
   "cell_type": "markdown",
   "metadata": {},
   "source": [
    "##### 정답\n",
    "* 3의 배수일 경우에만 값을 출력. 3의 배수는 3으로 나눈 나머지가 0이면 3의 배수. 변수 % 3은 변수를 3으로 나눈 나머지를 의미. 예를들어 10 % 3은 10을 3으로 나눈 나머지로 1을 반환.\n",
    "- 리스트 = [3, 100, 23, 44]\n",
    "- for 변수 in 리스트:\n",
    "-   if 변수 % 3 == 0:\n",
    "-     print(변수)"
   ]
  },
  {
   "cell_type": "code",
   "execution_count": 3,
   "metadata": {},
   "outputs": [
    {
     "name": "stdout",
     "output_type": "stream",
     "text": [
      "12\n",
      "18\n"
     ]
    }
   ],
   "source": [
    "# 153\n",
    "리스트 = [13, 21, 12, 14, 30, 18]\n",
    "for a in 리스트:\n",
    "    if a % 3 == 0 and a < 20:\n",
    "        print(a)"
   ]
  },
  {
   "cell_type": "markdown",
   "metadata": {},
   "source": [
    "##### 정답\n",
    "* 하나 이상의 조건을 비교할 때는 논리 연산자를 사용해야겠죠? 두 조건이 모두 참일 때만 실행돼야 하므로 and 연산자를 사용. 또한 코드의 가독성 향상을 위해 두 조건을 괄호로 구분. 괄호가 없어도 코드는 같은 동작.\n",
    "- 리스트 = [13, 21, 12, 14, 30, 18]\n",
    "- for 변수 in 리스트:\n",
    "-   if (변수 < 20) and (변수 % 3 == 0):\n",
    "-     print(변수)\n",
    "\n",
    "* and, or, not이 기억나지 않으신 분들은 3장 분기문을 복습"
   ]
  },
  {
   "cell_type": "code",
   "execution_count": 4,
   "metadata": {},
   "outputs": [
    {
     "name": "stdout",
     "output_type": "stream",
     "text": [
      "study\n",
      "python\n",
      "language\n"
     ]
    }
   ],
   "source": [
    "# 154\n",
    "리스트 = [\"I\", \"study\", \"python\", \"language\", \"!\"]\n",
    "for a in 리스트:\n",
    "    if len(a) >= 3:\n",
    "        print(a)"
   ]
  },
  {
   "cell_type": "markdown",
   "metadata": {},
   "source": [
    "##### 정답\n",
    "* 모든 문자열 중에서 문자열의 길이가 3이상인 문자열만 출력. 문자열의 길이를 계산하는 len() 함수와 분기문을 사용.\n",
    "- 리스트 = [\"I\", \"study\", \"python\", \"language\", \"!\"]\n",
    "- for 변수 in 리스트:\n",
    "-   if len(변수) >= 3:\n",
    "-     print(변수)"
   ]
  },
  {
   "cell_type": "code",
   "execution_count": 5,
   "metadata": {},
   "outputs": [
    {
     "name": "stdout",
     "output_type": "stream",
     "text": [
      "A\n",
      "D\n"
     ]
    }
   ],
   "source": [
    "# 155\n",
    "리스트 = [\"A\", \"b\", \"c\", \"D\"]\n",
    "for a in 리스트:\n",
    "    if a.isupper():\n",
    "        print(a)"
   ]
  },
  {
   "cell_type": "markdown",
   "metadata": {},
   "source": [
    "##### 정답\n",
    "* 리스트 = [\"A\", \"b\", \"c\", \"D\"]\n",
    "- for 변수 in 리스트:\n",
    "-   if 변수.isupper():\n",
    "-     print(변수)"
   ]
  },
  {
   "cell_type": "code",
   "execution_count": 6,
   "metadata": {},
   "outputs": [
    {
     "name": "stdout",
     "output_type": "stream",
     "text": [
      "b\n",
      "c\n"
     ]
    }
   ],
   "source": [
    "# 156\n",
    "리스트 = [\"A\", \"b\", \"c\", \"D\"]\n",
    "for a in 리스트:\n",
    "    if a.isupper() != True:\n",
    "        print(a)"
   ]
  },
  {
   "cell_type": "markdown",
   "metadata": {},
   "source": [
    "##### 정답\n",
    "* 비교 연산자를 사용해서 다음과 같이 표현\n",
    "- 리스트 = [\"A\", \"b\", \"c\", \"D\"]\n",
    "- for 변수 in 리스트:\n",
    "-   if 변수.isupper() == False:\n",
    "-     print(변수)\n",
    "* \n",
    "- 리스트 = [\"A\", \"b\", \"c\", \"D\"]\n",
    "- for 변수 in 리스트:\n",
    "-   if 변수.isupper() != True:\n",
    "-     print(변수)\n",
    "\n",
    "* 논리 연산자 not을 사용할 수도 있음.\n",
    "- 리스트 = [\"A\", \"b\", \"c\", \"D\"]\n",
    "- for 변수 in 리스트:\n",
    "-   if not 변수.isupper():\n",
    "-     print(변수)"
   ]
  },
  {
   "cell_type": "code",
   "execution_count": 7,
   "metadata": {},
   "outputs": [
    {
     "name": "stdout",
     "output_type": "stream",
     "text": [
      "Dog\n",
      "Cat\n",
      "Parrot\n"
     ]
    }
   ],
   "source": [
    "# 157\n",
    "리스트 = ['dog', 'cat', 'parrot']\n",
    "for a in 리스트:\n",
    "    b = a[0]\n",
    "    c = b.upper()\n",
    "    print(c + a[1:])"
   ]
  },
  {
   "cell_type": "markdown",
   "metadata": {},
   "source": [
    "##### 정답\n",
    "* 지금까지 배웠던 내용을 모두 응용해야 하는 문제. 첫 번째 단어만 대문자로 변경해야하기 때문에 아래의 순서로 처리.\n",
    "- 1) 인덱싱으로 첫번째 문자를 가져온다.\n",
    "- 2) upper() 함수로 대문자로 변경한다.\n",
    "- 3) 변경한 대문자와 나머지 문자를 이어붙인다.\n",
    "- 정리한 내용을 코드로 작성하면 다음과 같습니다.\n",
    "\n",
    "\n",
    "- 리스트 = ['dog', 'cat', 'parrot']\n",
    "- for 변수 in 리스트:\n",
    "-   첫글자 = 변수[0]              # 1)\n",
    "-   대문자 = 첫글자.upper()     # 2)\n",
    "-   print(대문자 + 변수[1:])      # 3)\n",
    "\n",
    "* 간단하기 때문에 한줄에 코드를 작성해도 좋음.\n",
    "- for 변수 in 리스트:\n",
    "-   print(변수[0].upper() + 변수[1:])"
   ]
  },
  {
   "cell_type": "code",
   "execution_count": 8,
   "metadata": {},
   "outputs": [
    {
     "name": "stdout",
     "output_type": "stream",
     "text": [
      "hello\n",
      "ex01\n",
      "intro\n"
     ]
    }
   ],
   "source": [
    "# 158\n",
    "리스트 = ['hello.py', 'ex01.py', 'intro.hwp']\n",
    "for a in 리스트:\n",
    "    b =a.split('.')\n",
    "    print(b[0])"
   ]
  },
  {
   "cell_type": "markdown",
   "metadata": {},
   "source": [
    "##### 정답\n",
    "* split() 메서드는 문자열을 입력된 구분자로 분할해서 리스트로 반환. 다음 예제 코드의 결과를 예상\n",
    "- 변수 = \"abcdef\"\n",
    "- print(변수.split(\"c\"))\n",
    "\n",
    "* 입력된 구분자 (\"c\")로 문자열을 분할해서 \"ab\"와 \"def\"를 리스트에 저장\n",
    "- ['ab', 'def']\n",
    "\n",
    "* split() 메서드를 사용해서 마침표를 구분자 (\".\")로 문자열을 분할. 그리고 0번 인덱스에 들어있는 파일 이름만 화면에 출력.\n",
    "- 리스트 = ['hello.py', 'ex01.py', 'intro.hwp']\n",
    "- for 변수 in 리스트:\n",
    "-   split = 변수.split(\".\")\n",
    "-   print(split[0])  "
   ]
  },
  {
   "cell_type": "code",
   "execution_count": 9,
   "metadata": {},
   "outputs": [
    {
     "name": "stdout",
     "output_type": "stream",
     "text": [
      "intra.h\n",
      "define.h\n"
     ]
    }
   ],
   "source": [
    "# 159\n",
    "리스트 = ['intra.h', 'intra.c', 'define.h', 'run.py']\n",
    "for a in 리스트:\n",
    "    split = a.split('.')\n",
    "    if split[1] == 'h':\n",
    "        print(a)"
   ]
  },
  {
   "cell_type": "markdown",
   "metadata": {},
   "source": [
    "##### 정답\n",
    "* split() 메서드로 문자열을 분할하고 확장자가 \"h\"인지 분기문으로 비교. 확장자가 \"h\"라면 파일 이름을 출력.\n",
    "- 리스트 = ['intra.h', 'intra.c', 'define.h', 'run.py']\n",
    "- for 변수 in 리스트:\n",
    "-   split = 변수.split(\".\")\n",
    "-   if split[1] == \"h\":\n",
    "-     print(변수)"
   ]
  },
  {
   "cell_type": "code",
   "execution_count": 10,
   "metadata": {},
   "outputs": [
    {
     "name": "stdout",
     "output_type": "stream",
     "text": [
      "intra.h\n",
      "intra.c\n",
      "define.h\n"
     ]
    }
   ],
   "source": [
    "# 160\n",
    "리스트 = ['intra.h', 'intra.c', 'define.h', 'run.py']\n",
    "for a in 리스트:\n",
    "    split = a.split('.')\n",
    "    if (split[1] == 'h') or (split[1] =='c'):\n",
    "        print(a)"
   ]
  },
  {
   "cell_type": "markdown",
   "metadata": {},
   "source": [
    "##### 정답\n",
    "* 논리 연산자 or을 사용해서 두 개의 확장자를 비교.\n",
    "- 리스트 = ['intra.h', 'intra.c', 'define.h', 'run.py']\n",
    "- for 변수 in 리스트:\n",
    "-   split = 변수.split(\".\")\n",
    "-   if (split[1] == \"h\") or (split[1] == \"c\"):\n",
    "-     print(변수)"
   ]
  }
 ],
 "metadata": {
  "interpreter": {
   "hash": "f035cfb5c0f4d176dfac7534c1cf94e7b16c78fc3dae1f1e73c4ff9bbcf255ac"
  },
  "kernelspec": {
   "display_name": "Python 3.10.1 64-bit",
   "language": "python",
   "name": "python3"
  },
  "language_info": {
   "codemirror_mode": {
    "name": "ipython",
    "version": 3
   },
   "file_extension": ".py",
   "mimetype": "text/x-python",
   "name": "python",
   "nbconvert_exporter": "python",
   "pygments_lexer": "ipython3",
   "version": "3.10.1"
  },
  "orig_nbformat": 4
 },
 "nbformat": 4,
 "nbformat_minor": 2
}
