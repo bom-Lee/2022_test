{
 "cells": [
  {
   "cell_type": "markdown",
   "metadata": {},
   "source": [
    "# 03. 파이썬 문자열\n",
    "## 021 ~ 030"
   ]
  },
  {
   "cell_type": "code",
   "execution_count": 1,
   "metadata": {},
   "outputs": [
    {
     "name": "stdout",
     "output_type": "stream",
     "text": [
      "p t\n"
     ]
    }
   ],
   "source": [
    "# 021 문자열 인덱싱\n",
    "letters = 'python'\n",
    "a = 'python'\n",
    "print(a[0], a[2])"
   ]
  },
  {
   "cell_type": "markdown",
   "metadata": {},
   "source": [
    "##### 정답\n",
    "* lang = 'python'\n",
    "* print(lang[0], lang[2])"
   ]
  },
  {
   "cell_type": "code",
   "execution_count": 11,
   "metadata": {},
   "outputs": [
    {
     "name": "stdout",
     "output_type": "stream",
     "text": [
      "2210\n"
     ]
    }
   ],
   "source": [
    "# 022 문자열 슬라이싱\n",
    "license_plate = \"24가 2210\"\n",
    "a = '24가 2210'\n",
    "print(a[4:8])"
   ]
  },
  {
   "cell_type": "markdown",
   "metadata": {},
   "source": [
    "##### 정답\n",
    "* license_plate = \"24가 2210\"\n",
    "* print(license_plate[-4:])"
   ]
  },
  {
   "cell_type": "code",
   "execution_count": 20,
   "metadata": {},
   "outputs": [
    {
     "name": "stdout",
     "output_type": "stream",
     "text": [
      "홀홀홀\n"
     ]
    }
   ],
   "source": [
    "# 023 문자열 인덱싱\n",
    "string = \"홀짝홀짝홀짝\"\n",
    "print(string[::2])"
   ]
  },
  {
   "cell_type": "markdown",
   "metadata": {},
   "source": [
    "##### 정답\n",
    "* string = \"홀짝홀짝홀짝\"\n",
    "* print(string[::2])"
   ]
  },
  {
   "cell_type": "code",
   "execution_count": 28,
   "metadata": {},
   "outputs": [
    {
     "name": "stdout",
     "output_type": "stream",
     "text": [
      "NOHTYP\n"
     ]
    }
   ],
   "source": [
    "# 024 문자열 슬라이싱\n",
    "string = \"PYTHON\"\n",
    "print(string[::-1])"
   ]
  },
  {
   "cell_type": "markdown",
   "metadata": {},
   "source": [
    "##### 정답\n",
    "* string = \"PYTHON\"\n",
    "* print(string[::-1])"
   ]
  },
  {
   "cell_type": "code",
   "execution_count": 29,
   "metadata": {},
   "outputs": [
    {
     "name": "stdout",
     "output_type": "stream",
     "text": [
      "안녕하세요.\n",
      "만나서\t\t반갑습니다.\n"
     ]
    }
   ],
   "source": [
    "# 025 문자열 치환\n",
    "phone_number = \"010-1111-2222\"\n",
    "pn = \"010-1111-2222\"\n",
    "pn1= pn.replace('-',' ')\n",
    "print(pn1)"
   ]
  },
  {
   "cell_type": "markdown",
   "metadata": {},
   "source": [
    "##### 정답\n",
    "\n",
    "* phone_number = \"010-1111-2222\"\n",
    "* phone_number1 = phone_number.replace(\"-\", \" \")\n",
    "* print(phone_number1)"
   ]
  },
  {
   "cell_type": "code",
   "execution_count": 35,
   "metadata": {},
   "outputs": [
    {
     "name": "stdout",
     "output_type": "stream",
     "text": [
      "01011112222\n"
     ]
    }
   ],
   "source": [
    "# 026 문자열 다루기\n",
    "pn = \"010-1111-2222\"\n",
    "pn1 = pn.replace('-','')\n",
    "print(pn1)"
   ]
  },
  {
   "cell_type": "markdown",
   "metadata": {},
   "source": [
    "##### 정답\n",
    "* phone_number = \"010-1111-2222\"\n",
    "* phone_number1 = phone_number.replace('-', '')\n",
    "* print(phone_number1)"
   ]
  },
  {
   "cell_type": "code",
   "execution_count": 40,
   "metadata": {},
   "outputs": [
    {
     "name": "stdout",
     "output_type": "stream",
     "text": [
      "kr\n"
     ]
    }
   ],
   "source": [
    "# 027 문자열 다루기\n",
    "url = \"http://sharebook.kr\"\n",
    "url_split = url.split('.')\n",
    "print(url_split[-1])"
   ]
  },
  {
   "cell_type": "markdown",
   "metadata": {},
   "source": [
    "##### 정답\n",
    "* url = \"http://sharebook.kr\"\n",
    "* url_split = url.split('.')\n",
    "* print(url_split[-1])"
   ]
  },
  {
   "cell_type": "code",
   "execution_count": 44,
   "metadata": {},
   "outputs": [],
   "source": [
    "# 028 문자열은 immutable\n",
    "# ang = 'python'\n",
    "# lang[0] = 'P'\n",
    "# print(lang)\n",
    "# 문자열 수정 불가\n",
    "# NameError: name 'lang' is not defined"
   ]
  },
  {
   "cell_type": "markdown",
   "metadata": {},
   "source": [
    "##### 정답\n",
    "* TypeError                                 Traceback (most recent call last)\n",
    "<ipython-input-22-a0f3d05b669c> in <module>\n",
    "      1 lang = \"python\"\n",
    "----> 2 lang[0]= \"P\"\n",
    "      3 print(lang)\n",
    "\n",
    "TypeError: 'str' object does not support item assignment"
   ]
  },
  {
   "cell_type": "code",
   "execution_count": 47,
   "metadata": {},
   "outputs": [
    {
     "name": "stdout",
     "output_type": "stream",
     "text": [
      "Abcdfe2A354A32A\n"
     ]
    }
   ],
   "source": [
    "# 029 replace 메서드\n",
    "string = 'abcdfe2a354a32a'\n",
    "string = string.replace('a','A')\n",
    "print(string)"
   ]
  },
  {
   "cell_type": "markdown",
   "metadata": {},
   "source": [
    "##### 정답\n",
    "* string = 'abcdfe2a354a32a'\n",
    "* string = string.replace('a', 'A')\n",
    "* print(string)"
   ]
  },
  {
   "cell_type": "code",
   "execution_count": 49,
   "metadata": {},
   "outputs": [
    {
     "name": "stdout",
     "output_type": "stream",
     "text": [
      "abcd\n"
     ]
    }
   ],
   "source": [
    "# 030 replace 메서드\n",
    "string = 'abcd'\n",
    "string.replace('b', 'B')\n",
    "print(string)\n",
    "# aBcd 될 줄 알았는데 안됨...ㅋㅋ\n",
    "# 문자열은 변경할 수 없는 자료형..!"
   ]
  },
  {
   "cell_type": "markdown",
   "metadata": {},
   "source": [
    "##### 정답\n",
    "* abcd가 그대로 출력. why? 문자열은 변경할 수 없는 자료형이기 때문. replace 메서드를 사용하면 원본은 그대로 둔채로 변경된 새로운 문자열 객체를 리턴"
   ]
  }
 ],
 "metadata": {
  "interpreter": {
   "hash": "f035cfb5c0f4d176dfac7534c1cf94e7b16c78fc3dae1f1e73c4ff9bbcf255ac"
  },
  "kernelspec": {
   "display_name": "Python 3.10.1 64-bit",
   "language": "python",
   "name": "python3"
  },
  "language_info": {
   "codemirror_mode": {
    "name": "ipython",
    "version": 3
   },
   "file_extension": ".py",
   "mimetype": "text/x-python",
   "name": "python",
   "nbconvert_exporter": "python",
   "pygments_lexer": "ipython3",
   "version": "3.10.1"
  },
  "orig_nbformat": 4
 },
 "nbformat": 4,
 "nbformat_minor": 2
}
