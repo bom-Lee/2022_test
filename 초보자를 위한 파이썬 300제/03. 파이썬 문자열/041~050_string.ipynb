{
 "cells": [
  {
   "cell_type": "markdown",
   "metadata": {},
   "source": [
    "# 03. 파이썬 문자열\n",
    "## 041 ~ 050"
   ]
  },
  {
   "cell_type": "code",
   "execution_count": 1,
   "metadata": {},
   "outputs": [
    {
     "name": "stdout",
     "output_type": "stream",
     "text": [
      "BTC_KRW\n"
     ]
    }
   ],
   "source": [
    "# 041 upper 메서드\n",
    "ticker = \"btc_krw\"\n",
    "ticker_ = ticker.upper()\n",
    "print(ticker_)"
   ]
  },
  {
   "cell_type": "markdown",
   "metadata": {},
   "source": [
    "##### 정답\n",
    "* upper 메서드를 호출하면 문자열을 대문자로 만들 수 있음. 다만 이 경우에도 원본 문자열은 유지되고 대문자로 변경된 새로운 문자열 객체가 반환된. 반환된 새로운 객체를 새로운 변수로 바인딩한 후 이를 print 함수로 출력.\n",
    "\n",
    "* ticker = \"btc_krw\"\n",
    "* ticker1 = ticker.upper()\n",
    "* print(ticker1)"
   ]
  },
  {
   "cell_type": "code",
   "execution_count": 2,
   "metadata": {},
   "outputs": [
    {
     "name": "stdout",
     "output_type": "stream",
     "text": [
      "btc_krw\n"
     ]
    }
   ],
   "source": [
    "# 042 lower 메서드\n",
    "ticker = \"BTC_KRW\"\n",
    "ticker_ = ticker.lower()\n",
    "print(ticker_)"
   ]
  },
  {
   "cell_type": "markdown",
   "metadata": {},
   "source": [
    "##### 정답\n",
    "* ticker = \"BTC_KRW\"\n",
    "* ticker = ticker.lower()\n",
    "* print(ticker)"
   ]
  },
  {
   "cell_type": "code",
   "execution_count": 11,
   "metadata": {},
   "outputs": [
    {
     "name": "stdout",
     "output_type": "stream",
     "text": [
      "Hello\n"
     ]
    }
   ],
   "source": [
    "# 043 capitalize 메서드\n",
    "a = 'hello'\n",
    "a = a.capitalize()\n",
    "print(a)"
   ]
  },
  {
   "cell_type": "markdown",
   "metadata": {},
   "source": [
    "##### 정답\n",
    "* a = \"hello\"\n",
    "* a = a.capitalize()"
   ]
  },
  {
   "cell_type": "code",
   "execution_count": 19,
   "metadata": {},
   "outputs": [
    {
     "data": {
      "text/plain": [
       "True"
      ]
     },
     "execution_count": 19,
     "metadata": {},
     "output_type": "execute_result"
    }
   ],
   "source": [
    "# 044 endswith 메서드\n",
    "file_name = \"보고서.xlsx\"\n",
    "file_name.endswith('xlsx')"
   ]
  },
  {
   "cell_type": "markdown",
   "metadata": {},
   "source": [
    "##### 정답\n",
    "* file_name = \"보고서.xlsx\"\n",
    "* file_name.endswith(\"xlsx\")"
   ]
  },
  {
   "cell_type": "code",
   "execution_count": 23,
   "metadata": {},
   "outputs": [
    {
     "data": {
      "text/plain": [
       "True"
      ]
     },
     "execution_count": 23,
     "metadata": {},
     "output_type": "execute_result"
    }
   ],
   "source": [
    "# 045 endswith 메서드\n",
    "file_name = \"보고서.xlsx\"\n",
    "file_name.endswith(('xlsx', 'xls'))"
   ]
  },
  {
   "cell_type": "markdown",
   "metadata": {},
   "source": [
    "##### 정답\n",
    "\n",
    "* file_name = \"보고서.xlsx\"\n",
    "* file_name.endswith((\"xlsx\", \"xls\"))"
   ]
  },
  {
   "cell_type": "code",
   "execution_count": 24,
   "metadata": {},
   "outputs": [
    {
     "data": {
      "text/plain": [
       "True"
      ]
     },
     "execution_count": 24,
     "metadata": {},
     "output_type": "execute_result"
    }
   ],
   "source": [
    "# 046 startswith 메서드\n",
    "file_name = \"2020_보고서.xlsx\"\n",
    "file_name.startswith('2020')"
   ]
  },
  {
   "cell_type": "markdown",
   "metadata": {},
   "source": [
    "##### 정답\n",
    "* file_name = \"2020_보고서.xlsx\"\n",
    "* file_name.startswith(\"2020\")"
   ]
  },
  {
   "cell_type": "code",
   "execution_count": 25,
   "metadata": {},
   "outputs": [
    {
     "name": "stdout",
     "output_type": "stream",
     "text": [
      "이름:김민수 나이:10\n",
      "이름:이철희 나이:13\n"
     ]
    }
   ],
   "source": [
    "# 047 split 메서드\n",
    "a = \"hello world\"\n",
    "a.split()"
   ]
  },
  {
   "cell_type": "markdown",
   "metadata": {},
   "source": [
    "##### 정답\n",
    "* 문자열의 split() 메서드를 사용하면 문자열에서 공백을 기준으로 분리"
   ]
  },
  {
   "cell_type": "code",
   "execution_count": 29,
   "metadata": {},
   "outputs": [
    {
     "data": {
      "text/plain": [
       "['btc', 'krw']"
      ]
     },
     "execution_count": 29,
     "metadata": {},
     "output_type": "execute_result"
    }
   ],
   "source": [
    "# 048 split 메서드\n",
    "ticker = \"btc_krw\"\n",
    "ticker.split('_')"
   ]
  },
  {
   "cell_type": "markdown",
   "metadata": {},
   "source": [
    "##### 정답\n",
    "* 문자열에서 split() 메서드는 문자열을 분리할 때 사용. 이때 어떤 값을 넘겨주면 그 값을 기준으로 문자열을 분리.\n",
    "\n",
    "* ticker = \"btc_krw\"\n",
    "* ticker.split(\"_\")"
   ]
  },
  {
   "cell_type": "code",
   "execution_count": 30,
   "metadata": {},
   "outputs": [
    {
     "data": {
      "text/plain": [
       "['2020', '05', '01']"
      ]
     },
     "execution_count": 30,
     "metadata": {},
     "output_type": "execute_result"
    }
   ],
   "source": [
    "# 049 split 메서드\n",
    "date = \"2020-05-01\"\n",
    "date.split('-')"
   ]
  },
  {
   "cell_type": "markdown",
   "metadata": {},
   "source": [
    "##### 정답\n",
    "* date = \"2020-05-01\"\n",
    "* date.split(\"-\")"
   ]
  },
  {
   "cell_type": "code",
   "execution_count": 31,
   "metadata": {},
   "outputs": [
    {
     "name": "stdout",
     "output_type": "stream",
     "text": [
      "039490     \n"
     ]
    }
   ],
   "source": [
    "# 050 rstrip 메서드\n",
    "data = \"039490     \"\n",
    "data.rstrip()\n",
    "print(data)"
   ]
  },
  {
   "cell_type": "markdown",
   "metadata": {},
   "source": [
    "##### 정답\n",
    "* rstrip() 메서드를 사용하면 오른쪽 공백이 제거된 새로운 문자열 객체가 반환. 그 값을 data라는 변수가 새로 바인딩. 기존의 공백이 포함된 문자열은 메모리에서 자동으로 삭제.\n",
    "\n",
    "* data = \"039490     \"\n",
    "* data = data.rstrip()"
   ]
  }
 ],
 "metadata": {
  "interpreter": {
   "hash": "f035cfb5c0f4d176dfac7534c1cf94e7b16c78fc3dae1f1e73c4ff9bbcf255ac"
  },
  "kernelspec": {
   "display_name": "Python 3.10.1 64-bit",
   "language": "python",
   "name": "python3"
  },
  "language_info": {
   "codemirror_mode": {
    "name": "ipython",
    "version": 3
   },
   "file_extension": ".py",
   "mimetype": "text/x-python",
   "name": "python",
   "nbconvert_exporter": "python",
   "pygments_lexer": "ipython3",
   "version": "3.10.1"
  },
  "orig_nbformat": 4
 },
 "nbformat": 4,
 "nbformat_minor": 2
}
