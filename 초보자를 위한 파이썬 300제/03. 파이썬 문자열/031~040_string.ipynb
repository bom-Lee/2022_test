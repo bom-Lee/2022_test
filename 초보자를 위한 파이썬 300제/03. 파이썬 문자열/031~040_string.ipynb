{
 "cells": [
  {
   "cell_type": "markdown",
   "metadata": {},
   "source": [
    "# 03. 파이썬 문자열\n",
    "## 031 ~ 040"
   ]
  },
  {
   "cell_type": "code",
   "execution_count": 1,
   "metadata": {},
   "outputs": [
    {
     "name": "stdout",
     "output_type": "stream",
     "text": [
      "34\n"
     ]
    }
   ],
   "source": [
    "# 031 문자열 합치기\n",
    "a = \"3\"\n",
    "b = \"4\"\n",
    "print(a + b)\n",
    "\n",
    "# 34"
   ]
  },
  {
   "cell_type": "markdown",
   "metadata": {},
   "source": [
    "##### 정답\n",
    "* 두 문자열에 대해 덧셈 기호는 문자열의 연결을 의미. 따라서 \"34\"라는 새로운 문자열이 생성되고 그 값이 print 함수에 의해 화면에 출력."
   ]
  },
  {
   "cell_type": "code",
   "execution_count": 11,
   "metadata": {},
   "outputs": [
    {
     "name": "stdout",
     "output_type": "stream",
     "text": [
      "HiHiHi\n"
     ]
    }
   ],
   "source": [
    "# 032 문자열 곱하기\n",
    "print(\"Hi\" * 3)\n",
    "# HiHiHi"
   ]
  },
  {
   "cell_type": "markdown",
   "metadata": {},
   "source": [
    "##### 정답\n",
    "* 문자열에 대한 곱셈은 문자열의 반복을 의미\n",
    "* HiHiHi"
   ]
  },
  {
   "cell_type": "code",
   "execution_count": 20,
   "metadata": {},
   "outputs": [
    {
     "name": "stdout",
     "output_type": "stream",
     "text": [
      "--------------------------------------------------------------------------------\n"
     ]
    }
   ],
   "source": [
    "# 033 문자열 곱하기\n",
    "# 화면에 '-'를 80개 출력\n",
    "print('-' * 80)"
   ]
  },
  {
   "cell_type": "markdown",
   "metadata": {},
   "source": [
    "##### 정답\n",
    "* print(\"-\" * 80)"
   ]
  },
  {
   "cell_type": "code",
   "execution_count": 28,
   "metadata": {},
   "outputs": [
    {
     "name": "stdout",
     "output_type": "stream",
     "text": [
      "python java python java python java python java \n"
     ]
    }
   ],
   "source": [
    "# 034 문자열 곱하기\n",
    "t1 = 'python'\n",
    "t2 = 'java'\n",
    "t12 = t1 + ' ' + t2 + ' '\n",
    "# python java python java python java python java\n",
    "print(t12 * 4)"
   ]
  },
  {
   "cell_type": "markdown",
   "metadata": {},
   "source": [
    "##### 정답\n",
    "* t1 = \"python\"\n",
    "* t2 = \"java\"\n",
    "* t3 = t1 + ' ' + t2 + ' '\n",
    "* print(t3 * 4)"
   ]
  },
  {
   "cell_type": "code",
   "execution_count": 41,
   "metadata": {},
   "outputs": [
    {
     "name": "stdout",
     "output_type": "stream",
     "text": [
      "이름: 김민수 나이: 10\n",
      "이름: 이철희 나이: 13\n"
     ]
    }
   ],
   "source": [
    "# 035 문자열 출력 (% formatting을 사용)\n",
    "name1 = \"김민수\" \n",
    "age1 = 10\n",
    "name2 = \"이철희\"\n",
    "age2 = 13\n",
    "# 이름: 김민수 나이: 10\n",
    "# 이름: 이철희 나이: 13\n",
    "\n",
    "\n",
    "print(\"이름: %s 나이: %d\" % (name1, age1))\n",
    "print(\"이름: %s 나이: %d\" % (name2, age2))"
   ]
  },
  {
   "cell_type": "markdown",
   "metadata": {},
   "source": [
    "##### 정답\n",
    "\n",
    "* print 포맷팅에서 %s는 문자열 데이터 타입의 값을 %d는 정수형 데이터 타입 값의 출력을 의미\n",
    "\n",
    "* name1 = \"김민수\" \n",
    "* age1 = 10\n",
    "* name2 = \"이철희\"\n",
    "* age2 = 13\n",
    "* print(\"이름: %s 나이: %d\" % (name1, age1))\n",
    "* print(\"이름: %s 나이: %d\" % (name2, age2))"
   ]
  },
  {
   "cell_type": "code",
   "execution_count": 47,
   "metadata": {},
   "outputs": [
    {
     "name": "stdout",
     "output_type": "stream",
     "text": [
      "이름:김민수 나이:10\n",
      "이름:이철희 나이:13\n"
     ]
    }
   ],
   "source": [
    "# 036 문자열 출력 *\n",
    "# 문자열의 format( ) 메서드를 사용해서 035번 문제 다시 풀기\n",
    "name1 = \"김민수\" \n",
    "age1 = 10\n",
    "name2 = \"이철희\"\n",
    "age2 = 13\n",
    "\n",
    "print('이름:{} 나이:{}'. format(name1, age1))\n",
    "print('이름:{} 나이:{}'. format(name2, age2))"
   ]
  },
  {
   "cell_type": "markdown",
   "metadata": {},
   "source": [
    "##### 정답\n",
    "* 문자열의 포맷 메서드는 타입과 상관없이 값이 출력될 위치에 { }를 적어주면 됨\n",
    "\n",
    "* name1 = \"김민수\" \n",
    "* age1 = 10\n",
    "* name2 = \"이철희\"\n",
    "* age2 = 13\n",
    "* print(\"이름: {} 나이: {}\".format(name1, age1))\n",
    "* print(\"이름: {} 나이: {}\".format(name2, age2))"
   ]
  },
  {
   "cell_type": "code",
   "execution_count": 52,
   "metadata": {},
   "outputs": [
    {
     "name": "stdout",
     "output_type": "stream",
     "text": [
      "이름:김민수 나이:10\n",
      "이름:이철희 나이:13\n"
     ]
    }
   ],
   "source": [
    "# 037 문자열 출력\n",
    "# 파이썬 3.6부터 지원하는 f-string을 사용해서 035번 문제를 다시 풀기\n",
    "name1 = \"김민수\" \n",
    "age1 = 10\n",
    "name2 = \"이철희\"\n",
    "age2 = 13\n",
    "\n",
    "print(f'이름:{name1} 나이:{age1}')\n",
    "print(f'이름:{name2} 나이:{age2}')"
   ]
  },
  {
   "cell_type": "markdown",
   "metadata": {},
   "source": [
    "##### 정답\n",
    "* f-string은 문자열 앞에 f가 붙은 형태. f-string을 사용하면 {변수}와 같은 형태로 문자열 사이에 타입과 상관없이 값을 출력\n",
    "\n",
    "* name1 = \"김민수\" \n",
    "* age1 = 10\n",
    "* name2 = \"이철희\"\n",
    "* age2 = 13\n",
    "* print(f\"이름: {name1} 나이: {age1}\")\n",
    "* print(f\"이름: {name2} 나이: {age2}\")"
   ]
  },
  {
   "cell_type": "code",
   "execution_count": 56,
   "metadata": {},
   "outputs": [
    {
     "name": "stdout",
     "output_type": "stream",
     "text": [
      "5969782550 <class 'int'>\n"
     ]
    }
   ],
   "source": [
    "# 038 컴마 제거하기\n",
    "상장주식수 = \"5,969,782,550\"\n",
    "a = 상장주식수.replace(',','')\n",
    "b = int(a)\n",
    "print(b, type(b))"
   ]
  },
  {
   "cell_type": "markdown",
   "metadata": {},
   "source": [
    "##### 정답\n",
    "* 정수형으로 타입을 변환하려면 int( ) 함수를 사용. 이때 숫자 형태의 문자열에 컴마가 있는 경우 바로 변환된지 않음. 먼저 문자열의 replace 메서드로 컴마를 제거한 후 변환.\n",
    "\n",
    "* 상장주식수 = \"5,969,782,550\"\n",
    "* 컴마제거 = 상장주식수.replace(\",\", \"\")\n",
    "* 타입변환 = int(컴마제거)\n",
    "* print(타입변환, type(타입변환))"
   ]
  },
  {
   "cell_type": "code",
   "execution_count": 59,
   "metadata": {},
   "outputs": [
    {
     "name": "stdout",
     "output_type": "stream",
     "text": [
      "2020/03\n"
     ]
    }
   ],
   "source": [
    "# 039 문자열 슬라이싱\n",
    "분기 = \"2020/03(E) (IFRS연결)\"\n",
    "print(분기[:7])"
   ]
  },
  {
   "cell_type": "markdown",
   "metadata": {},
   "source": [
    "##### 정답\n",
    "* 분기 = \"2020/03(E) (IFRS연결)\"\n",
    "* print(분기[:7])"
   ]
  },
  {
   "cell_type": "code",
   "execution_count": 61,
   "metadata": {},
   "outputs": [
    {
     "name": "stdout",
     "output_type": "stream",
     "text": [
      "삼성전자\n"
     ]
    }
   ],
   "source": [
    "# 040 strip 메서드\n",
    "data = \"   삼성전자    \"\n",
    "data_ = data.strip()\n",
    "print(data_)"
   ]
  },
  {
   "cell_type": "markdown",
   "metadata": {},
   "source": [
    "##### 정답\n",
    "* 문자열에서 strip( ) 메서드를 사용하면 좌우의 공백을 제거할 수 있음. 이때 원본 문자열은 그대로 유지되고 공백이 제거된 새로운 문자열이 반환.\n",
    "\n",
    "* data = \"   삼성전자    \"\n",
    "* data1 = data.strip()\n",
    "* print(data1)"
   ]
  }
 ],
 "metadata": {
  "interpreter": {
   "hash": "f035cfb5c0f4d176dfac7534c1cf94e7b16c78fc3dae1f1e73c4ff9bbcf255ac"
  },
  "kernelspec": {
   "display_name": "Python 3.10.1 64-bit",
   "language": "python",
   "name": "python3"
  },
  "language_info": {
   "codemirror_mode": {
    "name": "ipython",
    "version": 3
   },
   "file_extension": ".py",
   "mimetype": "text/x-python",
   "name": "python",
   "nbconvert_exporter": "python",
   "pygments_lexer": "ipython3",
   "version": "3.10.1"
  },
  "orig_nbformat": 4
 },
 "nbformat": 4,
 "nbformat_minor": 2
}
